{
 "cells": [
  {
   "cell_type": "code",
   "execution_count": 59,
   "metadata": {},
   "outputs": [],
   "source": [
    "import os\n",
    "import re\n",
    "import numpy as np\n",
    "import tensorflow as tf\n",
    "import numpy as np\n",
    "from sklearn.model_selection import train_test_split"
   ]
  },
  {
   "cell_type": "code",
   "execution_count": 37,
   "metadata": {},
   "outputs": [
    {
     "data": {
      "text/plain": [
       "'/home/abzooba/Desktop/tf_2_exp/mohit_wrk'"
      ]
     },
     "execution_count": 37,
     "metadata": {},
     "output_type": "execute_result"
    }
   ],
   "source": [
    "pwd"
   ]
  },
  {
   "cell_type": "code",
   "execution_count": 38,
   "metadata": {},
   "outputs": [
    {
     "data": {
      "text/plain": [
       "'./data_image'"
      ]
     },
     "execution_count": 38,
     "metadata": {},
     "output_type": "execute_result"
    }
   ],
   "source": [
    "path_append=os.path.join(os.curdir,'data_image')\n",
    "path_append"
   ]
  },
  {
   "cell_type": "code",
   "execution_count": 39,
   "metadata": {},
   "outputs": [],
   "source": [
    "files=os.listdir('./data_image/')"
   ]
  },
  {
   "cell_type": "markdown",
   "metadata": {},
   "source": [
    "### link for the data\n",
    "- https://console.cloud.google.com/storage/browser/quickdraw_dataset/full/numpy_bitmap?pli=1"
   ]
  },
  {
   "cell_type": "code",
   "execution_count": 41,
   "metadata": {},
   "outputs": [],
   "source": [
    "# files_=[re.search('(\\w.*_)(\\w.*)',file).group(2) for file in files]\n",
    "# for or_,new in zip(files,files_):\n",
    "#     os.rename(os.path.join(path_append,or_),os.path.join(path_append,new))\n",
    "    "
   ]
  },
  {
   "cell_type": "code",
   "execution_count": 42,
   "metadata": {},
   "outputs": [
    {
     "data": {
      "text/plain": [
       "['broom.npy',\n",
       " 'alarm clock.npy',\n",
       " 'cell phone.npy',\n",
       " 'bee.npy',\n",
       " 'baseball.npy',\n",
       " 'ant.npy']"
      ]
     },
     "execution_count": 42,
     "metadata": {},
     "output_type": "execute_result"
    }
   ],
   "source": [
    "files"
   ]
  },
  {
   "cell_type": "code",
   "execution_count": 43,
   "metadata": {},
   "outputs": [],
   "source": [
    "file_names=os.listdir('./data_image/')"
   ]
  },
  {
   "cell_type": "code",
   "execution_count": 44,
   "metadata": {},
   "outputs": [],
   "source": [
    "batch_size = 128\n",
    "img_rows, img_cols = 28, 28 # image dimensions"
   ]
  },
  {
   "cell_type": "code",
   "execution_count": 45,
   "metadata": {},
   "outputs": [
    {
     "data": {
      "text/plain": [
       "['broom.npy',\n",
       " 'alarm clock.npy',\n",
       " 'cell phone.npy',\n",
       " 'bee.npy',\n",
       " 'baseball.npy',\n",
       " 'ant.npy']"
      ]
     },
     "execution_count": 45,
     "metadata": {},
     "output_type": "execute_result"
    }
   ],
   "source": [
    "file_names"
   ]
  },
  {
   "cell_type": "code",
   "execution_count": 47,
   "metadata": {},
   "outputs": [
    {
     "name": "stdout",
     "output_type": "stream",
     "text": [
      "16666\n"
     ]
    }
   ],
   "source": [
    "num_images = 100000 ### was 100000, reduce this number if memory issues.\n",
    "num_files = len(file_names) # *** we have 10 files ***\n",
    "images_per_category = num_images//num_files\n",
    "seed = np.random.randint(1, 10e7)\n",
    "i=0\n",
    "print(images_per_category)"
   ]
  },
  {
   "cell_type": "code",
   "execution_count": 48,
   "metadata": {},
   "outputs": [
    {
     "data": {
      "text/plain": [
       "['broom.npy',\n",
       " 'alarm clock.npy',\n",
       " 'cell phone.npy',\n",
       " 'bee.npy',\n",
       " 'baseball.npy',\n",
       " 'ant.npy']"
      ]
     },
     "execution_count": 48,
     "metadata": {},
     "output_type": "execute_result"
    }
   ],
   "source": [
    "file_names"
   ]
  },
  {
   "cell_type": "code",
   "execution_count": 50,
   "metadata": {},
   "outputs": [],
   "source": [
    "data_path='./data_image/'"
   ]
  },
  {
   "cell_type": "code",
   "execution_count": 54,
   "metadata": {},
   "outputs": [
    {
     "data": {
      "text/plain": [
       "(116927, 784)"
      ]
     },
     "execution_count": 54,
     "metadata": {},
     "output_type": "execute_result"
    }
   ],
   "source": [
    "broom=np.load('./data_image/broom.npy')\n",
    "broom.shape"
   ]
  },
  {
   "cell_type": "code",
   "execution_count": 55,
   "metadata": {},
   "outputs": [
    {
     "name": "stdout",
     "output_type": "stream",
     "text": [
      "./data_image/broom.npy\n",
      "116927\n",
      "./data_image/alarm clock.npy\n",
      "123399\n",
      "./data_image/cell phone.npy\n",
      "121130\n",
      "./data_image/bee.npy\n",
      "120890\n",
      "./data_image/baseball.npy\n",
      "135375\n",
      "./data_image/ant.npy\n",
      "124612\n"
     ]
    }
   ],
   "source": [
    "i=0\n",
    "for file in file_names:\n",
    "    file_path = data_path + file\n",
    "    print(file_path)\n",
    "    x = np.load(file_path)\n",
    "    x = x.astype('float32') ##normalize images\n",
    "    x /= 255.0\n",
    "    print(len(x))\n",
    "    y = [i] * len(x) # create numeric label for this image\n",
    "    x = x[:images_per_category] # get the sample of images\n",
    "    y = y[:images_per_category] # get the sample of labels\n",
    "    if i == 0:\n",
    "        x_all =x\n",
    "        y_all =y\n",
    "    else:\n",
    "        x_all =np.concatenate((x,x_all),axis=0)\n",
    "        y_all =np.concatenate((y,y_all),axis=0)\n",
    "    i += 1"
   ]
  },
  {
   "cell_type": "code",
   "execution_count": 64,
   "metadata": {},
   "outputs": [],
   "source": [
    "\n",
    "x_train, x_test, y_train, y_test = train_test_split(x_all, y_all, test_size=0.3, random_state=2)\n"
   ]
  },
  {
   "cell_type": "code",
   "execution_count": 65,
   "metadata": {},
   "outputs": [
    {
     "data": {
      "text/plain": [
       "((69997, 784), (29999, 784), (69997,), (29999,))"
      ]
     },
     "execution_count": 65,
     "metadata": {},
     "output_type": "execute_result"
    }
   ],
   "source": [
    "x_train.shape, x_test.shape, y_train.shape, y_test.shape"
   ]
  },
  {
   "cell_type": "code",
   "execution_count": 66,
   "metadata": {},
   "outputs": [
    {
     "data": {
      "text/plain": [
       "(69997, 28, 28, 1)"
      ]
     },
     "execution_count": 66,
     "metadata": {},
     "output_type": "execute_result"
    }
   ],
   "source": [
    "x_train=x_train.reshape(-1,img_rows,img_cols,1)\n",
    "x_train.shape"
   ]
  },
  {
   "cell_type": "code",
   "execution_count": 67,
   "metadata": {},
   "outputs": [
    {
     "data": {
      "text/plain": [
       "(29999, 28, 28, 1)"
      ]
     },
     "execution_count": 67,
     "metadata": {},
     "output_type": "execute_result"
    }
   ],
   "source": [
    "x_test=x_test.reshape(-1,img_rows,img_cols,1)\n",
    "x_test.shape"
   ]
  },
  {
   "cell_type": "code",
   "execution_count": 68,
   "metadata": {},
   "outputs": [
    {
     "data": {
      "text/plain": [
       "(28, 28, 1)"
      ]
     },
     "execution_count": 68,
     "metadata": {},
     "output_type": "execute_result"
    }
   ],
   "source": [
    "input_shape=x_train.shape[1:]\n",
    "input_shape"
   ]
  },
  {
   "cell_type": "code",
   "execution_count": 69,
   "metadata": {},
   "outputs": [
    {
     "data": {
      "text/plain": [
       "6"
      ]
     },
     "execution_count": 69,
     "metadata": {},
     "output_type": "execute_result"
    }
   ],
   "source": [
    "num_files"
   ]
  },
  {
   "cell_type": "code",
   "execution_count": 70,
   "metadata": {},
   "outputs": [
    {
     "data": {
      "text/plain": [
       "(69997, 6)"
      ]
     },
     "execution_count": 70,
     "metadata": {},
     "output_type": "execute_result"
    }
   ],
   "source": [
    "y_train=tf.keras.utils.to_categorical(y_train,num_classes=num_files)\n",
    "y_train.shape"
   ]
  },
  {
   "cell_type": "code",
   "execution_count": 72,
   "metadata": {},
   "outputs": [
    {
     "data": {
      "text/plain": [
       "(29999, 6)"
      ]
     },
     "execution_count": 72,
     "metadata": {},
     "output_type": "execute_result"
    }
   ],
   "source": [
    "y_test=tf.keras.utils.to_categorical(y_test,num_classes=num_files)\n",
    "y_test.shape"
   ]
  },
  {
   "cell_type": "code",
   "execution_count": 73,
   "metadata": {},
   "outputs": [
    {
     "data": {
      "text/plain": [
       "(62997, 28, 28, 1)"
      ]
     },
     "execution_count": 73,
     "metadata": {},
     "output_type": "execute_result"
    }
   ],
   "source": [
    "x_train, x_valid, y_train, y_valid = train_test_split(x_train, y_train, test_size=0.1,random_state=2)\n",
    "x_train.shape"
   ]
  },
  {
   "cell_type": "code",
   "execution_count": 81,
   "metadata": {},
   "outputs": [],
   "source": [
    "model=tf.keras.Sequential()"
   ]
  },
  {
   "cell_type": "code",
   "execution_count": 82,
   "metadata": {},
   "outputs": [],
   "source": [
    "model.add(layer=tf.keras.layers.Conv2D(filters=32,kernel_size=(3,3),activation='relu',padding='same',input_shape=input_shape))"
   ]
  },
  {
   "cell_type": "code",
   "execution_count": 83,
   "metadata": {},
   "outputs": [],
   "source": [
    "model.add(layer=tf.keras.layers.MaxPool2D(pool_size=(2,2)))\n",
    "model.add(layer=tf.keras.layers.BatchNormalization())\n",
    "model.add(layer=tf.keras.layers.MaxPool2D(pool_size=(2,2)))\n",
    "model.add(layer=tf.keras.layers.BatchNormalization())\n",
    "\n",
    "model.add(layer=tf.keras.layers.Conv2D(filters=64,kernel_size=(3,3), padding='same',activation='relu'))          \n",
    "model.add(layer=tf.keras.layers.MaxPool2D(pool_size=(2,2)))\n",
    "model.add(layer=tf.keras.layers.BatchNormalization())\n",
    "\n",
    "model.add(layer=tf.keras.layers.Flatten())\n",
    "model.add(layer=tf.keras.layers.Dense(units=128,activation='relu'))\n",
    "model.add(layer=tf.keras.layers.Dropout(0.25))\n",
    "\n",
    "model.add(tf.keras.layers.Dense(units=num_files,activation='sigmoid'))          "
   ]
  },
  {
   "cell_type": "code",
   "execution_count": 85,
   "metadata": {},
   "outputs": [],
   "source": [
    "model.compile(optimizer=tf.keras.optimizers.Adam(),loss=tf.keras.losses.categorical_crossentropy,metrics=['accuracy'])"
   ]
  },
  {
   "cell_type": "code",
   "execution_count": 90,
   "metadata": {},
   "outputs": [],
   "source": [
    "epochs=20"
   ]
  },
  {
   "cell_type": "code",
   "execution_count": null,
   "metadata": {},
   "outputs": [],
   "source": []
  },
  {
   "cell_type": "code",
   "execution_count": 108,
   "metadata": {},
   "outputs": [],
   "source": [
    "callbacks=[tf.keras.callbacks.TensorBoard(log_dir='./logs/')]\n",
    "model.fit(x=x_train,y=y_train,batch_size=batch_size,callbacks=callbacks,verbose=1,validation_data=(x_valid,y_valid),epochs=epochs)"
   ]
  },
  {
   "cell_type": "code",
   "execution_count": 92,
   "metadata": {},
   "outputs": [
    {
     "name": "stdout",
     "output_type": "stream",
     "text": [
      "29999/29999 [==============================] - 3s 101us/sample - loss: 0.2041 - accuracy: 0.9352\n"
     ]
    },
    {
     "data": {
      "text/plain": [
       "[0.20413832364926685, 0.93519783]"
      ]
     },
     "execution_count": 92,
     "metadata": {},
     "output_type": "execute_result"
    }
   ],
   "source": [
    "model.evaluate(x=x_test,y=y_test)"
   ]
  },
  {
   "cell_type": "code",
   "execution_count": 94,
   "metadata": {},
   "outputs": [
    {
     "data": {
      "text/plain": [
       "['broom', 'alarm clock', 'cell phone', 'bee', 'baseball', 'ant']"
      ]
     },
     "execution_count": 94,
     "metadata": {},
     "output_type": "execute_result"
    }
   ],
   "source": [
    "[os.path.splitext(file)[0] for file in file_names]"
   ]
  },
  {
   "cell_type": "code",
   "execution_count": 104,
   "metadata": {},
   "outputs": [
    {
     "name": "stdout",
     "output_type": "stream",
     "text": [
      "['broom', 'alarm clock', 'cell phone', 'bee', 'baseball', 'ant']\n",
      "\n",
      "For each pair in the following, the first label is predicted, second is actual\n",
      "\n"
     ]
    }
   ],
   "source": [
    "import os\n",
    "labels = [os.path.splitext(file)[0] for file in file_names]\n",
    "\n",
    "print(labels)\n",
    "print(\"\\nFor each pair in the following, the first label is predicted, second is actual\\n\")"
   ]
  },
  {
   "cell_type": "code",
   "execution_count": 105,
   "metadata": {},
   "outputs": [
    {
     "name": "stdout",
     "output_type": "stream",
     "text": [
      "-------------------------\n",
      "ant\n",
      "ant\n",
      "-------------------------\n",
      "alarm clock\n",
      "alarm clock\n",
      "-------------------------\n",
      "ant\n",
      "ant\n",
      "-------------------------\n",
      "cell phone\n",
      "cell phone\n",
      "-------------------------\n",
      "broom\n",
      "broom\n",
      "-------------------------\n",
      "cell phone\n",
      "cell phone\n",
      "-------------------------\n",
      "cell phone\n",
      "cell phone\n",
      "-------------------------\n",
      "baseball\n",
      "baseball\n",
      "-------------------------\n",
      "alarm clock\n",
      "alarm clock\n",
      "-------------------------\n",
      "broom\n",
      "broom\n",
      "-------------------------\n",
      "cell phone\n",
      "cell phone\n",
      "-------------------------\n",
      "alarm clock\n",
      "alarm clock\n",
      "-------------------------\n",
      "bee\n",
      "bee\n",
      "-------------------------\n",
      "cell phone\n",
      "cell phone\n",
      "-------------------------\n",
      "cell phone\n",
      "cell phone\n",
      "-------------------------\n",
      "alarm clock\n",
      "alarm clock\n",
      "-------------------------\n",
      "cell phone\n",
      "cell phone\n",
      "-------------------------\n",
      "cell phone\n",
      "cell phone\n",
      "-------------------------\n",
      "alarm clock\n",
      "alarm clock\n",
      "-------------------------\n",
      "alarm clock\n",
      "alarm clock\n"
     ]
    }
   ],
   "source": [
    "for i in range(20):\n",
    "    t = np.random.randint(len(x_test) )\n",
    "    x1= x_test[t]\n",
    "    x1 = x1.reshape(1,28,28,1)\n",
    "    p = model.predict(x1)\n",
    "    print(\"-------------------------\")\n",
    "    print(labels[np.argmax(p)])\n",
    "    print(labels[np.argmax(y_test[t])])"
   ]
  },
  {
   "cell_type": "code",
   "execution_count": 106,
   "metadata": {},
   "outputs": [
    {
     "name": "stdout",
     "output_type": "stream",
     "text": [
      "Model: \"sequential_2\"\n",
      "_________________________________________________________________\n",
      "Layer (type)                 Output Shape              Param #   \n",
      "=================================================================\n",
      "conv2d_2 (Conv2D)            (None, 28, 28, 32)        320       \n",
      "_________________________________________________________________\n",
      "max_pooling2d_2 (MaxPooling2 (None, 14, 14, 32)        0         \n",
      "_________________________________________________________________\n",
      "batch_normalization_v2_2 (Ba (None, 14, 14, 32)        128       \n",
      "_________________________________________________________________\n",
      "max_pooling2d_3 (MaxPooling2 (None, 7, 7, 32)          0         \n",
      "_________________________________________________________________\n",
      "batch_normalization_v2_3 (Ba (None, 7, 7, 32)          128       \n",
      "_________________________________________________________________\n",
      "conv2d_3 (Conv2D)            (None, 7, 7, 64)          18496     \n",
      "_________________________________________________________________\n",
      "max_pooling2d_4 (MaxPooling2 (None, 3, 3, 64)          0         \n",
      "_________________________________________________________________\n",
      "batch_normalization_v2_4 (Ba (None, 3, 3, 64)          256       \n",
      "_________________________________________________________________\n",
      "flatten (Flatten)            (None, 576)               0         \n",
      "_________________________________________________________________\n",
      "dense (Dense)                (None, 128)               73856     \n",
      "_________________________________________________________________\n",
      "dropout (Dropout)            (None, 128)               0         \n",
      "_________________________________________________________________\n",
      "dense_1 (Dense)              (None, 6)                 774       \n",
      "=================================================================\n",
      "Total params: 93,958\n",
      "Trainable params: 93,702\n",
      "Non-trainable params: 256\n",
      "_________________________________________________________________\n"
     ]
    }
   ],
   "source": [
    "model.summary()"
   ]
  },
  {
   "cell_type": "code",
   "execution_count": 110,
   "metadata": {},
   "outputs": [],
   "source": [
    "os.mkdir('./h5_files')"
   ]
  },
  {
   "cell_type": "code",
   "execution_count": 111,
   "metadata": {},
   "outputs": [],
   "source": [
    "import h5py\n",
    "with h5py.File('./h5_files/x_train.h5', 'w') as hf:\n",
    "    hf.create_dataset(\"QuickDraw\", data=x_train)\n",
    "with h5py.File('./h5_files/y_train.h5', 'w') as hf:\n",
    "    hf.create_dataset(\"QuickDraw\", data=y_train)\n",
    "with h5py.File('./h5_files/x_test.h5', 'w') as hf:\n",
    "    hf.create_dataset(\"QuickDraw\", data=x_test)\n",
    "with h5py.File('./h5_files/y_test.h5', 'w') as hf:\n",
    "    hf.create_dataset(\"QuickDraw\", data=y_test)"
   ]
  },
  {
   "cell_type": "code",
   "execution_count": 125,
   "metadata": {},
   "outputs": [
    {
     "name": "stdout",
     "output_type": "stream",
     "text": [
      "['broom', 'alarm clock', 'cell phone', 'bee', 'baseball', 'ant']\n"
     ]
    }
   ],
   "source": [
    "from os import walk\n",
    "import os\n",
    "data_path = \"./data_image/\" # folder for image files\n",
    "\n",
    "for (dirpath, dirnames, filenames) in walk(data_path):\n",
    "    pass # filenames accumulate in list 'filenames'\n",
    "\n",
    "labels = [os.path.splitext(file)[0] for file in filenames]\n",
    "print(labels)"
   ]
  },
  {
   "cell_type": "markdown",
   "metadata": {},
   "source": [
    "### predictions with CPU"
   ]
  },
  {
   "cell_type": "code",
   "execution_count": 132,
   "metadata": {},
   "outputs": [
    {
     "name": "stdout",
     "output_type": "stream",
     "text": [
      "-------------------------\n",
      "alarm clock\n",
      "alarm clock\n",
      "-------------------------\n",
      "-------------------------\n",
      "bee\n",
      "bee\n",
      "-------------------------\n",
      "-------------------------\n",
      "alarm clock\n",
      "alarm clock\n",
      "-------------------------\n",
      "-------------------------\n",
      "ant\n",
      "ant\n",
      "-------------------------\n",
      "-------------------------\n",
      "alarm clock\n",
      "alarm clock\n",
      "-------------------------\n",
      "-------------------------\n",
      "ant\n",
      "ant\n",
      "-------------------------\n",
      "-------------------------\n",
      "bee\n",
      "bee\n",
      "-------------------------\n",
      "-------------------------\n",
      "broom\n",
      "broom\n",
      "-------------------------\n",
      "-------------------------\n",
      "cell phone\n",
      "cell phone\n",
      "-------------------------\n",
      "-------------------------\n",
      "ant\n",
      "ant\n",
      "-------------------------\n"
     ]
    }
   ],
   "source": [
    "with tf.device('/cpu:0'):\n",
    "    for i in range(10):\n",
    "        t = np.random.randint(len(x_test) )\n",
    "        x1= x_test[t]\n",
    "        x1 = x1.reshape(1,28,28,1)\n",
    "        p = model.predict(x1)\n",
    "        y1 = y_test[t]\n",
    "        print(\"-------------------------\")\n",
    "        print(labels[np.argmax([p])])\n",
    "        print(labels[np.argmax(y1)])\n",
    "        print(\"-------------------------\")"
   ]
  },
  {
   "cell_type": "code",
   "execution_count": null,
   "metadata": {},
   "outputs": [],
   "source": []
  },
  {
   "cell_type": "code",
   "execution_count": null,
   "metadata": {},
   "outputs": [],
   "source": []
  }
 ],
 "metadata": {
  "kernelspec": {
   "display_name": "Python 3",
   "language": "python",
   "name": "python3"
  },
  "language_info": {
   "codemirror_mode": {
    "name": "ipython",
    "version": 3
   },
   "file_extension": ".py",
   "mimetype": "text/x-python",
   "name": "python",
   "nbconvert_exporter": "python",
   "pygments_lexer": "ipython3",
   "version": "3.6.8"
  }
 },
 "nbformat": 4,
 "nbformat_minor": 2
}
