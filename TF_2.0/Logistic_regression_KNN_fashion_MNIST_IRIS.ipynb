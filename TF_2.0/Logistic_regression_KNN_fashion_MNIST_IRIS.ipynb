{
 "cells": [
  {
   "cell_type": "code",
   "execution_count": 1,
   "metadata": {},
   "outputs": [],
   "source": [
    "import tensorflow as tf"
   ]
  },
  {
   "cell_type": "code",
   "execution_count": 2,
   "metadata": {},
   "outputs": [
    {
     "data": {
      "text/plain": [
       "'1.15.0-dev20190709'"
      ]
     },
     "execution_count": 2,
     "metadata": {},
     "output_type": "execute_result"
    }
   ],
   "source": [
    "tf.__version__"
   ]
  },
  {
   "cell_type": "code",
   "execution_count": 7,
   "metadata": {},
   "outputs": [],
   "source": [
    "import numpy as np\n",
    "from tensorflow import keras \n",
    "from tensorflow.python.keras.datasets import fashion_mnist #this is our dataset"
   ]
  },
  {
   "cell_type": "code",
   "execution_count": 8,
   "metadata": {},
   "outputs": [],
   "source": [
    "from tensorflow.keras.callbacks import ModelCheckpoint"
   ]
  },
  {
   "cell_type": "code",
   "execution_count": 9,
   "metadata": {},
   "outputs": [],
   "source": [
    "tf.enable_eager_execution()"
   ]
  },
  {
   "cell_type": "code",
   "execution_count": 10,
   "metadata": {},
   "outputs": [],
   "source": [
    "batch_size = 128\n",
    "epochs = 20\n",
    "n_classes = 10\n",
    "learning_rate = 0.1\n",
    "width = 28 # of our images\n",
    "height = 28 # of our images"
   ]
  },
  {
   "cell_type": "code",
   "execution_count": 4,
   "metadata": {},
   "outputs": [],
   "source": [
    "fashion_labels =[\"Shirt/top\",\"Trousers\",\"Pullover\",\"Dress\",\"Coat\",\"Sandal\",\"Shirt\",\"Sneaker\",\"Bag\",\"Ankle boots\"]"
   ]
  },
  {
   "cell_type": "code",
   "execution_count": 11,
   "metadata": {},
   "outputs": [
    {
     "name": "stdout",
     "output_type": "stream",
     "text": [
      "Downloading data from https://storage.googleapis.com/tensorflow/tf-keras-datasets/train-labels-idx1-ubyte.gz\n",
      "32768/29515 [=================================] - 0s 2us/step\n",
      "Downloading data from https://storage.googleapis.com/tensorflow/tf-keras-datasets/train-images-idx3-ubyte.gz\n",
      "26427392/26421880 [==============================] - 46s 2us/step\n",
      "Downloading data from https://storage.googleapis.com/tensorflow/tf-keras-datasets/t10k-labels-idx1-ubyte.gz\n",
      "8192/5148 [===============================================] - 0s 1us/step\n",
      "Downloading data from https://storage.googleapis.com/tensorflow/tf-keras-datasets/t10k-images-idx3-ubyte.gz\n",
      "4423680/4422102 [==============================] - 4s 1us/step\n"
     ]
    }
   ],
   "source": [
    "(x_train, y_train), (x_test, y_test) =fashion_mnist.load_data()"
   ]
  },
  {
   "cell_type": "code",
   "execution_count": 12,
   "metadata": {},
   "outputs": [
    {
     "data": {
      "text/plain": [
       "(60000, 28, 28)"
      ]
     },
     "execution_count": 12,
     "metadata": {},
     "output_type": "execute_result"
    }
   ],
   "source": [
    "x_train.shape"
   ]
  },
  {
   "cell_type": "code",
   "execution_count": 13,
   "metadata": {},
   "outputs": [],
   "source": [
    "x_train,x_test=x_train.astype(np.float32)/255.,x_test.astype(np.float32)/255."
   ]
  },
  {
   "cell_type": "code",
   "execution_count": 14,
   "metadata": {},
   "outputs": [],
   "source": [
    "x_train,x_test=x_train.reshape([-1,784]),x_test.reshape([-1,784])"
   ]
  },
  {
   "cell_type": "code",
   "execution_count": 15,
   "metadata": {},
   "outputs": [],
   "source": [
    "split = 50000\n",
    "#split training sets into training and validation sets\n",
    "(x_train, x_valid) = x_train[:split], x_train[split:]\n",
    "(y_train, y_valid) = y_train[:split], y_train[split:]"
   ]
  },
  {
   "cell_type": "code",
   "execution_count": 17,
   "metadata": {},
   "outputs": [],
   "source": [
    "y_train_ohe=tf.one_hot(y_train,depth=n_classes).numpy()\n",
    "y_valid_ohe=tf.one_hot(y_valid,depth=n_classes).numpy()\n",
    "y_test_ohe=tf.one_hot(y_test,depth=n_classes).numpy()"
   ]
  },
  {
   "cell_type": "code",
   "execution_count": 18,
   "metadata": {},
   "outputs": [
    {
     "name": "stdout",
     "output_type": "stream",
     "text": [
      "2\n",
      "tf.Tensor([0. 0. 1. 0. 0. 0. 0. 0. 0. 0.], shape=(10,), dtype=float32)\n",
      "[0. 0. 1. 0. 0. 0. 0. 0. 0. 0.]\n"
     ]
    }
   ],
   "source": [
    "i=5\n",
    "print(y_train[i]) # 'ordinairy' number value of label at index i\n",
    "print (tf.one_hot(y_train[i], depth=n_classes))# same value as a 1. in correct position in an length 10 1D tensor\n",
    "print(y_train_ohe[i]) # same value as a 1. in correct position in an length 10 1D numpy a"
   ]
  },
  {
   "cell_type": "code",
   "execution_count": 67,
   "metadata": {},
   "outputs": [
    {
     "name": "stdout",
     "output_type": "stream",
     "text": [
      "Ankle boots===Shirt/top===Shirt/top===Dress===Shirt/top===Pullover===Sneaker===Pullover===Sandal===Sandal==="
     ]
    },
    {
     "data": {
      "image/png": "[encoded data removed]",
      "text/plain": [
       "<Figure size 1584x1584 with 10 Axes>"
      ]
     },
     "metadata": {
      "needs_background": "light"
     },
     "output_type": "display_data"
    }
   ],
   "source": [
    "import matplotlib.pyplot as plt\n",
    "%matplotlib inline\n",
    "_,image = plt.subplots(1,10,figsize=(22,22))\n",
    "for i in range(10):\n",
    "    image[i].imshow(np.reshape(x_train[i],(width, height)), cmap=\"Greys\")\n",
    "    print(fashion_labels[y_train[i]],sep='', end='===')"
   ]
  },
  {
   "cell_type": "code",
   "execution_count": 25,
   "metadata": {},
   "outputs": [],
   "source": [
    "class LogisticRegression(tf.keras.Model):\n",
    "    def __init__(self, num_classes):\n",
    "        super(LogisticRegression,self).__init__()\n",
    "        self.dense=tf.keras.layers.Dense(num_classes)\n",
    "    def call(self,inputs):\n",
    "        output=self.dense(inputs)\n",
    "        with tf.device('/cpu:0'):\n",
    "            output=tf.nn.softmax(output)\n",
    "        return output\n",
    "        "
   ]
  },
  {
   "cell_type": "code",
   "execution_count": 26,
   "metadata": {},
   "outputs": [],
   "source": [
    "model=LogisticRegression(num_classes=n_classes)\n"
   ]
  },
  {
   "cell_type": "code",
   "execution_count": 40,
   "metadata": {},
   "outputs": [],
   "source": [
    "optimiser=tf.keras.optimizers.Adam(learning_rate)\n",
    "model.compile(optimiser,loss='categorical_crossentropy',metrics=['accuracy'])\n"
   ]
  },
  {
   "cell_type": "code",
   "execution_count": 41,
   "metadata": {},
   "outputs": [],
   "source": [
    "dummy=tf.zeros(shape=(1,784))"
   ]
  },
  {
   "cell_type": "code",
   "execution_count": 42,
   "metadata": {},
   "outputs": [
    {
     "data": {
      "text/plain": [
       "<tf.Tensor: id=91760, shape=(1, 10), dtype=float32, numpy=\n",
       "array([[0.09998878, 0.09999578, 0.09996588, 0.09999991, 0.10000902,\n",
       "        0.09998983, 0.10002515, 0.09999855, 0.10001905, 0.10000809]],\n",
       "      dtype=float32)>"
      ]
     },
     "execution_count": 42,
     "metadata": {},
     "output_type": "execute_result"
    }
   ],
   "source": [
    "model.call(dummy)"
   ]
  },
  {
   "cell_type": "code",
   "execution_count": null,
   "metadata": {},
   "outputs": [],
   "source": []
  },
  {
   "cell_type": "code",
   "execution_count": null,
   "metadata": {},
   "outputs": [],
   "source": []
  },
  {
   "cell_type": "markdown",
   "metadata": {},
   "source": [
    "### Path should be specified format only"
   ]
  },
  {
   "cell_type": "code",
   "execution_count": 53,
   "metadata": {},
   "outputs": [],
   "source": [
    "checkpointer = ModelCheckpoint(filepath=\"./model.weights.best.hdf5\", verbose=2,save_best_only=True)"
   ]
  },
  {
   "cell_type": "code",
   "execution_count": 57,
   "metadata": {
    "scrolled": true
   },
   "outputs": [
    {
     "name": "stdout",
     "output_type": "stream",
     "text": [
      "Train on 50000 samples, validate on 10000 samples\n",
      "Epoch 1/20\n",
      "47872/50000 [===========================>..] - ETA: 0s - loss: 403.6949 - acc: 0.0018\n",
      "Epoch 00001: val_loss did not improve from 6.83092\n",
      "50000/50000 [==============================] - 1s 16us/sample - loss: 405.0108 - acc: 0.0018 - val_loss: 8.5363 - val_acc: 0.1850\n",
      "Epoch 2/20\n",
      "47104/50000 [===========================>..] - ETA: 0s - loss: 383.0771 - acc: 0.0239 \n",
      "Epoch 00002: val_loss did not improve from 6.83092\n",
      "50000/50000 [==============================] - 1s 16us/sample - loss: 380.9611 - acc: 0.0318 - val_loss: 7.6728 - val_acc: 0.0769\n",
      "Epoch 3/20\n",
      "47616/50000 [===========================>..] - ETA: 0s - loss: 354.7930 - acc: 0.1483\n",
      "Epoch 00003: val_loss did not improve from 6.83092\n",
      "50000/50000 [==============================] - 1s 17us/sample - loss: 353.5833 - acc: 0.1508 - val_loss: 7.7481 - val_acc: 0.1009\n",
      "Epoch 4/20\n",
      "48000/50000 [===========================>..] - ETA: 0s - loss: 348.9355 - acc: 0.1380\n",
      "Epoch 00004: val_loss did not improve from 6.83092\n",
      "50000/50000 [==============================] - 1s 16us/sample - loss: 348.3023 - acc: 0.1395 - val_loss: 8.2882 - val_acc: 0.1009\n",
      "Epoch 5/20\n",
      "46848/50000 [===========================>..] - ETA: 0s - loss: 377.1088 - acc: 0.1665\n",
      "Epoch 00005: val_loss did not improve from 6.83092\n",
      "50000/50000 [==============================] - 1s 16us/sample - loss: 380.5760 - acc: 0.1595 - val_loss: 9.5137 - val_acc: 0.0691\n",
      "Epoch 6/20\n",
      "48384/50000 [============================>.] - ETA: 0s - loss: 361.2270 - acc: 0.1376\n",
      "Epoch 00006: val_loss did not improve from 6.83092\n",
      "50000/50000 [==============================] - 1s 15us/sample - loss: 361.0415 - acc: 0.1363 - val_loss: 8.2977 - val_acc: 0.1248\n",
      "Epoch 7/20\n",
      "49792/50000 [============================>.] - ETA: 0s - loss: 366.4151 - acc: 0.1419\n",
      "Epoch 00007: val_loss did not improve from 6.83092\n",
      "50000/50000 [==============================] - 1s 16us/sample - loss: 366.3299 - acc: 0.1416 - val_loss: 8.2007 - val_acc: 0.1544\n",
      "Epoch 8/20\n",
      "46976/50000 [===========================>..] - ETA: 0s - loss: 352.7482 - acc: 0.1443\n",
      "Epoch 00008: val_loss did not improve from 6.83092\n",
      "50000/50000 [==============================] - 1s 17us/sample - loss: 352.2109 - acc: 0.1446 - val_loss: 8.6417 - val_acc: 0.1388\n",
      "Epoch 9/20\n",
      "46592/50000 [==========================>...] - ETA: 0s - loss: 349.9000 - acc: 0.1468\n",
      "Epoch 00009: val_loss did not improve from 6.83092\n",
      "50000/50000 [==============================] - 1s 16us/sample - loss: 350.4982 - acc: 0.1474 - val_loss: 8.5609 - val_acc: 0.0701\n",
      "Epoch 10/20\n",
      "48256/50000 [===========================>..] - ETA: 0s - loss: 357.3239 - acc: 0.1502\n",
      "Epoch 00010: val_loss did not improve from 6.83092\n",
      "50000/50000 [==============================] - 1s 16us/sample - loss: 357.4842 - acc: 0.1501 - val_loss: 8.2465 - val_acc: 0.1530\n",
      "Epoch 11/20\n",
      "47744/50000 [===========================>..] - ETA: 0s - loss: 377.4232 - acc: 0.1658\n",
      "Epoch 00011: val_loss did not improve from 6.83092\n",
      "50000/50000 [==============================] - 1s 17us/sample - loss: 376.6080 - acc: 0.1635 - val_loss: 8.5023 - val_acc: 0.1608\n",
      "Epoch 12/20\n",
      "48512/50000 [============================>.] - ETA: 0s - loss: 360.9911 - acc: 0.1546\n",
      "Epoch 00012: val_loss did not improve from 6.83092\n",
      "50000/50000 [==============================] - 1s 16us/sample - loss: 360.7824 - acc: 0.1542 - val_loss: 7.6214 - val_acc: 0.0415\n",
      "Epoch 13/20\n",
      "49792/50000 [============================>.] - ETA: 0s - loss: 353.8226 - acc: 0.1292\n",
      "Epoch 00013: val_loss did not improve from 6.83092\n",
      "50000/50000 [==============================] - 1s 16us/sample - loss: 353.6797 - acc: 0.1290 - val_loss: 6.8934 - val_acc: 0.0839\n",
      "Epoch 14/20\n",
      "47616/50000 [===========================>..] - ETA: 0s - loss: 367.8350 - acc: 0.1497\n",
      "Epoch 00014: val_loss did not improve from 6.83092\n",
      "50000/50000 [==============================] - 1s 16us/sample - loss: 367.4291 - acc: 0.1500 - val_loss: 8.5640 - val_acc: 0.0865\n",
      "Epoch 15/20\n",
      "49152/50000 [============================>.] - ETA: 0s - loss: 370.4564 - acc: 0.1485\n",
      "Epoch 00015: val_loss did not improve from 6.83092\n",
      "50000/50000 [==============================] - 1s 16us/sample - loss: 369.8367 - acc: 0.1488 - val_loss: 7.8878 - val_acc: 0.0047\n",
      "Epoch 16/20\n",
      "49408/50000 [============================>.] - ETA: 0s - loss: 354.1034 - acc: 0.1460\n",
      "Epoch 00016: val_loss did not improve from 6.83092\n",
      "50000/50000 [==============================] - 1s 16us/sample - loss: 354.3295 - acc: 0.1457 - val_loss: 7.7748 - val_acc: 0.0490\n",
      "Epoch 17/20\n",
      "46848/50000 [===========================>..] - ETA: 0s - loss: 351.4097 - acc: 0.1385\n",
      "Epoch 00017: val_loss did not improve from 6.83092\n",
      "50000/50000 [==============================] - 1s 16us/sample - loss: 350.9193 - acc: 0.1405 - val_loss: 8.7173 - val_acc: 0.0196\n",
      "Epoch 18/20\n",
      "47488/50000 [===========================>..] - ETA: 0s - loss: 347.7550 - acc: 0.1334\n",
      "Epoch 00018: val_loss did not improve from 6.83092\n",
      "50000/50000 [==============================] - 1s 16us/sample - loss: 348.9773 - acc: 0.1342 - val_loss: 8.1778 - val_acc: 0.1200\n",
      "Epoch 19/20\n",
      "46208/50000 [==========================>...] - ETA: 0s - loss: 350.4546 - acc: 0.1353\n",
      "Epoch 00019: val_loss did not improve from 6.83092\n",
      "50000/50000 [==============================] - 1s 15us/sample - loss: 352.4801 - acc: 0.1250 - val_loss: 8.2122 - val_acc: 0.0392\n",
      "Epoch 20/20\n",
      "49408/50000 [============================>.] - ETA: 0s - loss: 338.1514 - acc: 0.1390\n",
      "Epoch 00020: val_loss did not improve from 6.83092\n",
      "50000/50000 [==============================] - 1s 14us/sample - loss: 338.2546 - acc: 0.1393 - val_loss: 8.9860 - val_acc: 0.0029\n"
     ]
    },
    {
     "data": {
      "text/plain": [
       "<tensorflow.python.keras.callbacks.History at 0x7f0ea87388d0>"
      ]
     },
     "execution_count": 57,
     "metadata": {},
     "output_type": "execute_result"
    }
   ],
   "source": [
    "model.fit(x=x_train,y=y_train,batch_size=batch_size,epochs=epochs,validation_data=(x_valid,y_valid_ohe),verbose=True, callbacks=[checkpointer])"
   ]
  },
  {
   "cell_type": "code",
   "execution_count": 58,
   "metadata": {},
   "outputs": [],
   "source": [
    "model.load_weights(\"./model.weights.best.hdf5\")"
   ]
  },
  {
   "cell_type": "code",
   "execution_count": 59,
   "metadata": {},
   "outputs": [
    {
     "name": "stdout",
     "output_type": "stream",
     "text": [
      "10000/10000 [==============================] - 0s 22us/sample - loss: 6.8028 - acc: 0.1254\n"
     ]
    },
    {
     "data": {
      "text/plain": [
       "[6.802787699890136, 0.1254]"
      ]
     },
     "execution_count": 59,
     "metadata": {},
     "output_type": "execute_result"
    }
   ],
   "source": [
    "model.evaluate(x=x_test,y=y_test_ohe)"
   ]
  },
  {
   "cell_type": "code",
   "execution_count": null,
   "metadata": {},
   "outputs": [],
   "source": []
  },
  {
   "cell_type": "code",
   "execution_count": null,
   "metadata": {},
   "outputs": [],
   "source": []
  },
  {
   "cell_type": "markdown",
   "metadata": {},
   "source": [
    "### KNN on IRIS datset"
   ]
  },
  {
   "cell_type": "code",
   "execution_count": 68,
   "metadata": {},
   "outputs": [],
   "source": [
    "from sklearn import datasets"
   ]
  },
  {
   "cell_type": "code",
   "execution_count": 78,
   "metadata": {},
   "outputs": [],
   "source": [
    "import numpy as np"
   ]
  },
  {
   "cell_type": "code",
   "execution_count": 93,
   "metadata": {},
   "outputs": [
    {
     "data": {
      "text/plain": [
       "((150, 4), (150,))"
      ]
     },
     "execution_count": 93,
     "metadata": {},
     "output_type": "execute_result"
    }
   ],
   "source": [
    "iris = datasets.load_iris()\n",
    "x = iris.data\n",
    "y = np.array(iris.target)\n",
    "x.shape, y.shape"
   ]
  },
  {
   "cell_type": "code",
   "execution_count": 94,
   "metadata": {},
   "outputs": [],
   "source": [
    "flower_labels = [\"iris setosa\", \"iris virginica\", \"iris versicolor\"]"
   ]
  },
  {
   "cell_type": "code",
   "execution_count": 95,
   "metadata": {},
   "outputs": [],
   "source": [
    "y=np.eye(len(set(y)))[y]"
   ]
  },
  {
   "cell_type": "code",
   "execution_count": 96,
   "metadata": {},
   "outputs": [],
   "source": [
    "x=(x-x.min(axis=0))/(x.max(axis=0)-x.min(axis=0))"
   ]
  },
  {
   "cell_type": "code",
   "execution_count": 98,
   "metadata": {},
   "outputs": [],
   "source": [
    "np.random.seed(42)\n",
    "split = 0.8 # this makes 120 train and 30 test features"
   ]
  },
  {
   "cell_type": "code",
   "execution_count": 101,
   "metadata": {},
   "outputs": [],
   "source": [
    "train_indices=np.random.choice(len(x), round(len(x) * split), replace=False)"
   ]
  },
  {
   "cell_type": "code",
   "execution_count": 106,
   "metadata": {},
   "outputs": [],
   "source": [
    "test_indices=np.array(list(set(range(len(x)))-set(train_indices)))"
   ]
  },
  {
   "cell_type": "code",
   "execution_count": 107,
   "metadata": {},
   "outputs": [],
   "source": [
    "train_x = x[train_indices]\n",
    "test_x = x[test_indices]\n",
    "train_y = y[train_indices]\n",
    "test_y = y[test_indices]"
   ]
  },
  {
   "cell_type": "code",
   "execution_count": 109,
   "metadata": {},
   "outputs": [
    {
     "data": {
      "text/plain": [
       "(30, 4)"
      ]
     },
     "execution_count": 109,
     "metadata": {},
     "output_type": "execute_result"
    }
   ],
   "source": [
    "test_x.shape"
   ]
  },
  {
   "cell_type": "code",
   "execution_count": null,
   "metadata": {},
   "outputs": [],
   "source": [
    "def distance(train_x,test_x,"
   ]
  },
  {
   "cell_type": "code",
   "execution_count": 140,
   "metadata": {},
   "outputs": [],
   "source": [
    "distance=tf.reduce_sum(tf.abs(tf.subtract(tf.expand_dims(test_x,axis=1),train_x)),axis=2)"
   ]
  },
  {
   "cell_type": "code",
   "execution_count": 141,
   "metadata": {},
   "outputs": [
    {
     "data": {
      "text/plain": [
       "<tf.Tensor: id=324920, shape=(30, 120), dtype=float64, numpy=\n",
       "array([[0.52283427, 0.81897363, 0.8747646 , ..., 0.61393597, 1.99270245,\n",
       "        2.07603578],\n",
       "       [0.14030132, 0.32532957, 1.36840866, ..., 0.20362524, 1.66572505,\n",
       "        1.74905838],\n",
       "       [0.40560264, 0.39618644, 1.46421846, ..., 0.413371  , 1.73658192,\n",
       "        1.81991525],\n",
       "       ...,\n",
       "       [1.13983051, 1.43596987, 0.57556497, ..., 1.06426554, 2.77636535,\n",
       "        2.85969868],\n",
       "       [0.27306968, 0.45809793, 1.31897363, ..., 0.0863936 , 1.79849341,\n",
       "        1.88182674],\n",
       "       [0.3702919 , 0.44420904, 1.24952919, ..., 0.12806026, 1.61793785,\n",
       "        1.70127119]])>"
      ]
     },
     "execution_count": 141,
     "metadata": {},
     "output_type": "execute_result"
    }
   ],
   "source": [
    "distance"
   ]
  },
  {
   "cell_type": "code",
   "execution_count": 145,
   "metadata": {},
   "outputs": [],
   "source": [
    "_,__=tf.nn.top_k(tf.negative(distance), k=2)"
   ]
  },
  {
   "cell_type": "code",
   "execution_count": 146,
   "metadata": {
    "scrolled": true
   },
   "outputs": [
    {
     "data": {
      "text/plain": [
       "<tf.Tensor: id=324932, shape=(30, 2), dtype=int32, numpy=\n",
       "array([[ 98,  87],\n",
       "       [  0,  42],\n",
       "       [ 44,  42],\n",
       "       [ 19,  70],\n",
       "       [ 85,  40],\n",
       "       [ 11,  22],\n",
       "       [ 13,  32],\n",
       "       [109,   6],\n",
       "       [104,  42],\n",
       "       [  9,  95],\n",
       "       [ 61,  62],\n",
       "       [ 33,  32],\n",
       "       [ 46,  12],\n",
       "       [114,  19],\n",
       "       [ 60,   9],\n",
       "       [ 30,   3],\n",
       "       [ 50,  83],\n",
       "       [ 36,  60],\n",
       "       [ 30, 119],\n",
       "       [102,  94],\n",
       "       [ 77,  88],\n",
       "       [113,  21],\n",
       "       [ 35,  37],\n",
       "       [ 66,  84],\n",
       "       [104,  86],\n",
       "       [ 78,  28],\n",
       "       [ 58, 103],\n",
       "       [ 16,  85],\n",
       "       [117, 104],\n",
       "       [ 46, 117]], dtype=int32)>"
      ]
     },
     "execution_count": 146,
     "metadata": {},
     "output_type": "execute_result"
    }
   ],
   "source": [
    "__"
   ]
  },
  {
   "cell_type": "code",
   "execution_count": 169,
   "metadata": {},
   "outputs": [
    {
     "data": {
      "text/plain": [
       "(3, 4, 2)"
      ]
     },
     "execution_count": 169,
     "metadata": {},
     "output_type": "execute_result"
    }
   ],
   "source": [
    "np.stack(arrays, axis=2).shape"
   ]
  },
  {
   "cell_type": "code",
   "execution_count": 170,
   "metadata": {},
   "outputs": [
    {
     "data": {
      "text/plain": [
       "array([[[ 0.2334658 ,  1.90590724],\n",
       "        [ 0.80265226,  0.22760232],\n",
       "        [ 0.05407087, -0.19467026],\n",
       "        [ 0.24035116,  1.41967298]],\n",
       "\n",
       "       [[ 0.82335252,  0.46073707],\n",
       "        [ 2.05245274,  0.5861056 ],\n",
       "        [ 0.25119497, -1.52316087],\n",
       "        [-0.45379666,  1.20591521]],\n",
       "\n",
       "       [[-2.02923086,  0.37558807],\n",
       "        [ 1.96130347, -1.37158938],\n",
       "        [-0.26324171,  0.48509411],\n",
       "        [ 0.53480929, -2.06252567]]])"
      ]
     },
     "execution_count": 170,
     "metadata": {},
     "output_type": "execute_result"
    }
   ],
   "source": [
    "np.stack(arrays, axis=-1)"
   ]
  },
  {
   "cell_type": "code",
   "execution_count": null,
   "metadata": {},
   "outputs": [],
   "source": []
  },
  {
   "cell_type": "code",
   "execution_count": null,
   "metadata": {},
   "outputs": [],
   "source": []
  },
  {
   "cell_type": "code",
   "execution_count": null,
   "metadata": {},
   "outputs": [],
   "source": []
  }
 ],
 "metadata": {
  "kernelspec": {
   "display_name": "Python 3",
   "language": "python",
   "name": "python3"
  },
  "language_info": {
   "codemirror_mode": {
    "name": "ipython",
    "version": 3
   },
   "file_extension": ".py",
   "mimetype": "text/x-python",
   "name": "python",
   "nbconvert_exporter": "python",
   "pygments_lexer": "ipython3",
   "version": "3.6.8"
  }
 },
 "nbformat": 4,
 "nbformat_minor": 2
}
