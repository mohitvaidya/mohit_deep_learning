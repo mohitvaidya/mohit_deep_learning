{
 "cells": [
  {
   "cell_type": "code",
   "execution_count": 2,
   "metadata": {},
   "outputs": [],
   "source": [
    "import tensorflow"
   ]
  },
  {
   "cell_type": "code",
   "execution_count": 3,
   "metadata": {},
   "outputs": [],
   "source": [
    "from tensorflow.keras.layers import Dense, Input\n",
    "from tensorflow.keras.models import Model\n",
    "from tensorflow.keras.datasets import fashion_mnist\n",
    "from tensorflow.keras.callbacks import ModelCheckpoint, EarlyStopping"
   ]
  },
  {
   "cell_type": "code",
   "execution_count": 4,
   "metadata": {},
   "outputs": [],
   "source": [
    "from tensorflow.keras import regularizers\n",
    "import numpy as np\n",
    "%matplotlib inline"
   ]
  },
  {
   "cell_type": "code",
   "execution_count": 5,
   "metadata": {},
   "outputs": [
    {
     "name": "stdout",
     "output_type": "stream",
     "text": [
      "(60000, 28, 28)\n",
      "(10000, 28, 28)\n"
     ]
    }
   ],
   "source": [
    "(x_train, _), (x_test, _) = fashion_mnist.load_data() # we don't need the labels\n",
    "x_train = x_train.astype('float32') / 255. # normalize\n",
    "x_test = x_test.astype('float32') / 255.\n",
    "print(x_train.shape) # shape of input\n",
    "print(x_test.shape)"
   ]
  },
  {
   "cell_type": "code",
   "execution_count": 7,
   "metadata": {},
   "outputs": [
    {
     "name": "stdout",
     "output_type": "stream",
     "text": [
      "(60000, 784)\n",
      "(10000, 784)\n"
     ]
    }
   ],
   "source": [
    "x_train = x_train.reshape(( x_train.shape[0], np.prod(x_train.shape[1:]))) #flatten\n",
    "x_test = x_test.reshape((x_test.shape[0], np.prod(x_test.shape[1:])))\n",
    "print(x_train.shape)\n",
    "print(x_test.shape)\n"
   ]
  },
  {
   "cell_type": "code",
   "execution_count": 8,
   "metadata": {},
   "outputs": [],
   "source": [
    "image_dim=784\n",
    "encoding_dim=32\n"
   ]
  },
  {
   "cell_type": "code",
   "execution_count": 17,
   "metadata": {},
   "outputs": [],
   "source": [
    "input_image=Input(shape=(image_dim,))\n",
    "encoded_image = Dense(encoding_dim, activation='relu',activity_regularizer=regularizers.l1())(input_image)"
   ]
  },
  {
   "cell_type": "code",
   "execution_count": 18,
   "metadata": {},
   "outputs": [],
   "source": [
    "encoder = Model(input_image, encoded_image)\n",
    "decoded_image = Dense(image_dim, activation='sigmoid')(encoded_image)# \"decoded\" is the lossy reconstruction of the input\n",
    "autoencoder = Model(input_image, decoded_image)"
   ]
  },
  {
   "cell_type": "code",
   "execution_count": 19,
   "metadata": {},
   "outputs": [],
   "source": [
    "encoded_input = Input(shape=(encoding_dim,))# create a placeholder for an encoded (32-dimensional) input\n",
    "decoder_layer = autoencoder.layers[-1]# retrieve the last layer of the autoencoder model\n",
    "decoder = Model(encoded_input, decoder_layer(encoded_input))"
   ]
  },
  {
   "cell_type": "code",
   "execution_count": 32,
   "metadata": {},
   "outputs": [],
   "source": [
    "autoencoder.compile(optimizer='adadelta',loss='binary_crossentropy',metrics=['accuracy'])"
   ]
  },
  {
   "cell_type": "code",
   "execution_count": 33,
   "metadata": {
    "scrolled": true
   },
   "outputs": [],
   "source": [
    "ckpt1=ModelCheckpoint(filepath='model.weights.best.hdf5',verbose=2,save_best_only=True)\n",
    "ckpt2=EarlyStopping(monitor='val_loss',min_delta=0.0005,patience=2)\n"
   ]
  },
  {
   "cell_type": "code",
   "execution_count": 34,
   "metadata": {},
   "outputs": [
    {
     "name": "stdout",
     "output_type": "stream",
     "text": [
      "Train on 60000 samples\n",
      "Epoch 1/10\n",
      "60000/60000 [==============================] - 2s 37us/sample - loss: 0.6906 - acc: 0.4759\n",
      "Epoch 2/10\n",
      "60000/60000 [==============================] - 2s 38us/sample - loss: 0.6905 - acc: 0.4766\n",
      "Epoch 3/10\n",
      "60000/60000 [==============================] - 2s 37us/sample - loss: 0.6904 - acc: 0.4772\n",
      "Epoch 4/10\n",
      "60000/60000 [==============================] - 2s 38us/sample - loss: 0.6902 - acc: 0.4778\n",
      "Epoch 5/10\n",
      "60000/60000 [==============================] - 2s 36us/sample - loss: 0.6901 - acc: 0.4783\n",
      "Epoch 6/10\n",
      "60000/60000 [==============================] - 2s 36us/sample - loss: 0.6900 - acc: 0.4788\n",
      "Epoch 7/10\n",
      "60000/60000 [==============================] - 2s 38us/sample - loss: 0.6899 - acc: 0.4793\n",
      "Epoch 8/10\n",
      "60000/60000 [==============================] - 2s 38us/sample - loss: 0.6898 - acc: 0.4797\n",
      "Epoch 9/10\n",
      "60000/60000 [==============================] - 2s 38us/sample - loss: 0.6897 - acc: 0.4801\n",
      "Epoch 10/10\n",
      "60000/60000 [==============================] - 2s 39us/sample - loss: 0.6896 - acc: 0.4805\n"
     ]
    },
    {
     "data": {
      "text/plain": [
       "<tensorflow.python.keras.callbacks.History at 0x7f51e85776a0>"
      ]
     },
     "execution_count": 34,
     "metadata": {},
     "output_type": "execute_result"
    }
   ],
   "source": [
    "autoencoder.fit(x=x_train,y=x_train,epochs=10,batch_size=64, shuffle=True)"
   ]
  },
  {
   "cell_type": "code",
   "execution_count": 35,
   "metadata": {},
   "outputs": [],
   "source": [
    "encoded_images = encoder.predict(x_test) #compress\n",
    "decoded_images = decoder.predict(encoded_images) #decompress"
   ]
  },
  {
   "cell_type": "code",
   "execution_count": 36,
   "metadata": {},
   "outputs": [],
   "source": [
    "import matplotlib.pyplot as plt"
   ]
  },
  {
   "cell_type": "code",
   "execution_count": 37,
   "metadata": {},
   "outputs": [
    {
     "data": {
      "image/png": "[encoded data removed]",
      "text/plain": [
       "<Figure size 1440x288 with 24 Axes>"
      ]
     },
     "metadata": {
      "needs_background": "light"
     },
     "output_type": "display_data"
    }
   ],
   "source": [
    "number_of_items = 12 # how many items we will display\n",
    "plt.figure(figsize=(20, 4))\n",
    "for i in range(number_of_items):\n",
    "# display items before compression\n",
    "    graph = plt.subplot(2, number_of_items, i + 1)\n",
    "    plt.imshow(x_test[i].reshape(28, 28))\n",
    "    plt.gray()\n",
    "    graph.get_xaxis().set_visible(False)\n",
    "    graph.get_yaxis().set_visible(False)\n",
    "    # display items after decompression\n",
    "    graph = plt.subplot(2, number_of_items, i + 1 + number_of_items)\n",
    "    plt.imshow(decoded_images[i].reshape(28, 28))\n",
    "    plt.gray()\n",
    "    graph.get_xaxis().set_visible(False)\n",
    "    graph.get_yaxis().set_visible(False)\n",
    "plt.show()"
   ]
  },
  {
   "cell_type": "markdown",
   "metadata": {},
   "source": [
    "### Denoising autoencoder"
   ]
  },
  {
   "cell_type": "code",
   "execution_count": 4,
   "metadata": {},
   "outputs": [],
   "source": [
    "from tensorflow.keras.layers import Input, Dense, Conv2D, MaxPooling2D, UpSampling2D\n",
    "from tensorflow.keras.models import Model\n",
    "from tensorflow.keras.datasets import fashion_mnist\n",
    "from tensorflow.keras.callbacks import TensorBoard\n",
    "import numpy as np\n",
    "import matplotlib.pyplot as plt\n",
    "%matplotlib inline"
   ]
  },
  {
   "cell_type": "code",
   "execution_count": 2,
   "metadata": {},
   "outputs": [],
   "source": [
    "%reload_ext autoreload\n",
    "%autoreload 1"
   ]
  },
  {
   "cell_type": "code",
   "execution_count": 3,
   "metadata": {},
   "outputs": [
    {
     "data": {
      "text/plain": [
       "'2.0.0-alpha0'"
      ]
     },
     "execution_count": 3,
     "metadata": {},
     "output_type": "execute_result"
    }
   ],
   "source": [
    "import tensorflow\n",
    "tensorflow.__version__"
   ]
  },
  {
   "cell_type": "code",
   "execution_count": 107,
   "metadata": {},
   "outputs": [],
   "source": [
    "(train_x,_),(test_x,_) = fashion_mnist.load_data()"
   ]
  },
  {
   "cell_type": "code",
   "execution_count": 108,
   "metadata": {},
   "outputs": [],
   "source": [
    "train_x,test_x=np.reshape(train_x.astype('float32')/255,(-1,28,28,1)),np.reshape(test_x.astype('float32')/255,(-1,28,28,1))"
   ]
  },
  {
   "cell_type": "code",
   "execution_count": 109,
   "metadata": {},
   "outputs": [
    {
     "data": {
      "text/plain": [
       "(60000, 28, 28, 1)"
      ]
     },
     "execution_count": 109,
     "metadata": {},
     "output_type": "execute_result"
    }
   ],
   "source": [
    "train_x.shape"
   ]
  },
  {
   "cell_type": "code",
   "execution_count": 110,
   "metadata": {},
   "outputs": [],
   "source": [
    "noise = 0.5\n",
    "train_x_noisy = train_x + noise * np.random.normal(loc=0.0, scale=1.0, size=train_x.shape)\n",
    "test_x_noisy = test_x + noise * np.random.normal(loc=0.0, scale=1.0, size=test_x.shape)"
   ]
  },
  {
   "cell_type": "code",
   "execution_count": 111,
   "metadata": {},
   "outputs": [
    {
     "data": {
      "text/plain": [
       "0.0"
      ]
     },
     "execution_count": 111,
     "metadata": {},
     "output_type": "execute_result"
    }
   ],
   "source": [
    "np.clip(train_x_noisy,0,1).min()"
   ]
  },
  {
   "cell_type": "code",
   "execution_count": 112,
   "metadata": {},
   "outputs": [],
   "source": [
    "train_x_noisy= np.clip(train_x_noisy,0,1)\n",
    "test_x_noisy=np.clip(test_x_noisy,0,1)"
   ]
  },
  {
   "cell_type": "code",
   "execution_count": 113,
   "metadata": {},
   "outputs": [],
   "source": [
    "%matplotlib inline"
   ]
  },
  {
   "cell_type": "code",
   "execution_count": 114,
   "metadata": {},
   "outputs": [],
   "source": [
    "number_of_items=10"
   ]
  },
  {
   "cell_type": "code",
   "execution_count": 115,
   "metadata": {},
   "outputs": [
    {
     "data": {
      "image/png": "[encoded data removed]",
      "text/plain": [
       "<Figure size 1440x144 with 10 Axes>"
      ]
     },
     "metadata": {
      "needs_background": "light"
     },
     "output_type": "display_data"
    }
   ],
   "source": [
    "plt.figure(figsize=(20, 2))\n",
    "\n",
    "for i in range(number_of_items):\n",
    "    display = plt.subplot(1, number_of_items,i+1)\n",
    "    plt.imshow(test_x_noisy[i].reshape(28, 28))\n",
    "    plt.gray()\n",
    "    display.get_xaxis().set_visible(False)\n",
    "    display.get_yaxis().set_visible(False)\n",
    "plt.show()"
   ]
  },
  {
   "cell_type": "code",
   "execution_count": 134,
   "metadata": {},
   "outputs": [
    {
     "data": {
      "text/plain": [
       "(60000, 28, 28, 1)"
      ]
     },
     "execution_count": 134,
     "metadata": {},
     "output_type": "execute_result"
    }
   ],
   "source": [
    "train_x_noisy.shape"
   ]
  },
  {
   "cell_type": "code",
   "execution_count": 135,
   "metadata": {},
   "outputs": [
    {
     "data": {
      "text/plain": [
       "<tf.Tensor 'max_pooling2d_16/MaxPool:0' shape=(None, 7, 7, 32) dtype=float32>"
      ]
     },
     "execution_count": 135,
     "metadata": {},
     "output_type": "execute_result"
    }
   ],
   "source": [
    "input_image = Input(shape=(28, 28, 1))\n",
    "im = Conv2D(filters=32, kernel_size=(3, 3), activation='relu', padding='same')(input_image)\n",
    "im=MaxPooling2D(pool_size=(2,2),padding='same')(im)\n",
    "im=Conv2D(32,(3,3),activation='relu',padding='same')(im)\n",
    "encoded=MaxPooling2D(pool_size=(2,2),padding='same')(im)\n",
    "encoded"
   ]
  },
  {
   "cell_type": "code",
   "execution_count": 136,
   "metadata": {},
   "outputs": [],
   "source": [
    "im=Conv2D(32,kernel_size=(3,3),padding='same',activation='relu')(im)"
   ]
  },
  {
   "cell_type": "code",
   "execution_count": 137,
   "metadata": {},
   "outputs": [
    {
     "data": {
      "text/plain": [
       "<tf.Tensor 'up_sampling2d_7/ResizeNearestNeighbor:0' shape=(None, 28, 28, 32) dtype=float32>"
      ]
     },
     "execution_count": 137,
     "metadata": {},
     "output_type": "execute_result"
    }
   ],
   "source": [
    "im=UpSampling2D()(im)\n",
    "im"
   ]
  },
  {
   "cell_type": "code",
   "execution_count": 138,
   "metadata": {},
   "outputs": [
    {
     "data": {
      "text/plain": [
       "<tf.Tensor 'conv2d_32/Sigmoid:0' shape=(None, 28, 28, 1) dtype=float32>"
      ]
     },
     "execution_count": 138,
     "metadata": {},
     "output_type": "execute_result"
    }
   ],
   "source": [
    "decoded=Conv2D(1,kernel_size=(3,3),activation='sigmoid',padding='same')(im)\n",
    "decoded"
   ]
  },
  {
   "cell_type": "code",
   "execution_count": 139,
   "metadata": {},
   "outputs": [],
   "source": [
    "autoencoder=Model(inputs=input_image,outputs=decoded)\n"
   ]
  },
  {
   "cell_type": "code",
   "execution_count": 161,
   "metadata": {},
   "outputs": [],
   "source": [
    "adam=tensorflow.keras.optimizers.Adam(learning_rate=0.0005)"
   ]
  },
  {
   "cell_type": "code",
   "execution_count": 162,
   "metadata": {},
   "outputs": [],
   "source": [
    "autoencoder.compile(optimizer=adam, loss='binary_crossentropy',metrics=['accuracy'])"
   ]
  },
  {
   "cell_type": "code",
   "execution_count": 163,
   "metadata": {},
   "outputs": [
    {
     "name": "stdout",
     "output_type": "stream",
     "text": [
      "already there\n"
     ]
    }
   ],
   "source": [
    "if os.path.isdir(\"logs\"):\n",
    "    print('already there')\n",
    "else:\n",
    "    os.mkdir(\"logs\")"
   ]
  },
  {
   "cell_type": "code",
   "execution_count": 164,
   "metadata": {},
   "outputs": [],
   "source": [
    "logdir = \"logs\"\n",
    "tensorboard_callback = [TensorBoard(log_dir=logdir)]"
   ]
  },
  {
   "cell_type": "code",
   "execution_count": 165,
   "metadata": {},
   "outputs": [],
   "source": [
    "epochs=3\n",
    "batch_size=512"
   ]
  },
  {
   "cell_type": "code",
   "execution_count": 166,
   "metadata": {
    "scrolled": false
   },
   "outputs": [
    {
     "name": "stdout",
     "output_type": "stream",
     "text": [
      "Train on 54000 samples, validate on 6000 samples\n",
      "Epoch 1/3\n",
      "54000/54000 [==============================] - 47s 863us/sample - loss: 0.2966 - accuracy: 0.5079 - val_loss: 0.2983 - val_accuracy: 0.5040\n",
      "Epoch 2/3\n",
      "54000/54000 [==============================] - 50s 925us/sample - loss: 0.2961 - accuracy: 0.5080 - val_loss: 0.2982 - val_accuracy: 0.5040\n",
      "Epoch 3/3\n",
      "54000/54000 [==============================] - 52s 959us/sample - loss: 0.2960 - accuracy: 0.5080 - val_loss: 0.2980 - val_accuracy: 0.5040\n"
     ]
    },
    {
     "data": {
      "text/plain": [
       "<tensorflow.python.keras.callbacks.History at 0x7fe4d4fe0668>"
      ]
     },
     "execution_count": 166,
     "metadata": {},
     "output_type": "execute_result"
    }
   ],
   "source": [
    "autoencoder.fit(x=train_x_noisy,y=train_x,epochs=epochs,batch_size=batch_size,verbose=True,validation_split=0.1,callbacks=tensorboard_callback)"
   ]
  },
  {
   "cell_type": "code",
   "execution_count": 167,
   "metadata": {},
   "outputs": [],
   "source": [
    "decoded_images = autoencoder.predict(test_x_noisy)\n",
    "number_of_items = 10"
   ]
  },
  {
   "cell_type": "code",
   "execution_count": 168,
   "metadata": {},
   "outputs": [
    {
     "data": {
      "image/png": "[encoded data removed]",
      "text/plain": [
       "<Figure size 1440x144 with 10 Axes>"
      ]
     },
     "metadata": {
      "needs_background": "light"
     },
     "output_type": "display_data"
    }
   ],
   "source": [
    "plt.figure(figsize=(20, 2))\n",
    "for item in range(number_of_items):\n",
    "    display = plt.subplot(1, number_of_items,item+1)\n",
    "    im = decoded_images[item].reshape(28, 28)\n",
    "    plt.imshow(im, cmap=\"gray\")\n",
    "    display.get_xaxis().set_visible(False)\n",
    "    display.get_yaxis().set_visible(False)\n",
    "plt.show()"
   ]
  },
  {
   "cell_type": "code",
   "execution_count": null,
   "metadata": {},
   "outputs": [],
   "source": []
  },
  {
   "cell_type": "code",
   "execution_count": null,
   "metadata": {},
   "outputs": [],
   "source": []
  },
  {
   "cell_type": "code",
   "execution_count": null,
   "metadata": {},
   "outputs": [],
   "source": []
  },
  {
   "cell_type": "code",
   "execution_count": null,
   "metadata": {},
   "outputs": [],
   "source": []
  }
 ],
 "metadata": {
  "kernelspec": {
   "display_name": "Python 3",
   "language": "python",
   "name": "python3"
  },
  "language_info": {
   "codemirror_mode": {
    "name": "ipython",
    "version": 3
   },
   "file_extension": ".py",
   "mimetype": "text/x-python",
   "name": "python",
   "nbconvert_exporter": "python",
   "pygments_lexer": "ipython3",
   "version": "3.6.8"
  }
 },
 "nbformat": 4,
 "nbformat_minor": 2
}
