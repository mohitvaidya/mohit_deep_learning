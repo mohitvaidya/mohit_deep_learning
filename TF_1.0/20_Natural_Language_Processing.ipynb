{
 "cells": [
  {
   "cell_type": "markdown",
   "metadata": {},
   "source": [
    "# TensorFlow Tutorial #20\n",
    "# Natural Language Processing\n",
    "\n",
    "by [Magnus Erik Hvass Pedersen](http://www.hvass-labs.org/)\n",
    "/ [GitHub](https://github.com/Hvass-Labs/TensorFlow-Tutorials) / [Videos on YouTube](https://www.youtube.com/playlist?list=PL9Hr9sNUjfsmEu1ZniY0XpHSzl5uihcXZ)"
   ]
  },
  {
   "cell_type": "markdown",
   "metadata": {},
   "source": [
    "## Introduction\n",
    "\n",
    "This tutorial is about a basic form of Natural Language Processing (NLP) called Sentiment Analysis, in which we will try and classify a movie review as either positive or negative.\n",
    "\n",
    "Consider a simple example: \"This movie is not very good.\" This text ends with the words \"very good\" which indicates a very positive sentiment, but it is negated because it is preceded by the word \"not\", so the text should be classified as having a negative sentiment. How can we teach a Neural Network to do this classification?\n",
    "\n",
    "Another problem is that neural networks cannot work directly on text-data, so we need to convert text into numbers that are compatible with a neural network.\n",
    "\n",
    "Yet another problem is that a text may be arbitrarily long. The neural networks we have worked with in previous tutorials use fixed data-shapes - except for the first dimension of the data which varies with the batch-size. Now we need a type of neural network that can work on both short and long sequences of text.\n",
    "\n",
    "You should be familiar with TensorFlow and Keras in general, see Tutorials #01 and #03-C."
   ]
  },
  {
   "cell_type": "markdown",
   "metadata": {},
   "source": [
    "## Flowchart\n",
    "\n",
    "To solve this problem we need several processing steps. First we need to convert the raw text-words into so-called tokens which are integer values. These tokens are really just indices into a list of the entire vocabulary. Then we convert these integer-tokens into so-called embeddings which are real-valued vectors, whose mapping will be trained along with the neural network, so as to map words with similar meanings to similar embedding-vectors. Then we input these embedding-vectors to a Recurrent Neural Network which can take sequences of arbitrary length as input and output a kind of summary of what it has seen in the input. This output is then squashed using a Sigmoid-function to give us a value between 0.0 and 1.0, where 0.0 is taken to mean a negative sentiment and 1.0 means a positive sentiment. This whole process allows us to classify input-text as either having a negative or positive sentiment.\n",
    "\n",
    "The flowchart of the algorithm is roughly:\n",
    "\n",
    "<img src=\"images/20_natural_language_flowchart.png\" alt=\"Flowchart NLP\" style=\"width: 300px;\"/>"
   ]
  },
  {
   "cell_type": "markdown",
   "metadata": {},
   "source": [
    "## Recurrent Neural Network\n",
    "\n",
    "The basic building block in a Recurrent Neural Network (RNN) is a Recurrent Unit (RU). There are many different variants of recurrent units such as the rather clunky LSTM (Long-Short-Term-Memory) and the somewhat simpler GRU (Gated Recurrent Unit) which we will use in this tutorial. Experiments in the literature suggest that the LSTM and GRU have roughly similar performance. Even simpler variants also exist and the literature suggests that they may perform even better than both LSTM and GRU, but they are not implemented in Keras which we will use in this tutorial.\n",
    "\n",
    "The following figure shows the abstract idea of a recurrent unit, which has an internal state that is being updated every time the unit receives a new input. This internal state serves as a kind of memory. However, it is not a traditional kind of computer memory which stores bits that are either on or off. Instead the recurrent unit stores floating-point values in its memory-state, which are read and written using matrix-operations so the operations are all differentiable. This means the memory-state can store arbitrary floating-point values (although typically limited between -1.0 and 1.0) and the network can be trained like a normal neural network using Gradient Descent.\n",
    "\n",
    "The new state-value depends on both the old state-value and the current input. For example, if the state-value has memorized that we have recently seen the word \"not\" and the current input is \"good\" then we need to store a new state-value that memorizes \"not good\" which indicates a negative sentiment.\n",
    "\n",
    "The part of the recurrent unit that is responsible for mapping old state-values and inputs to the new state-value is called a gate, but it is really just a type of matrix-operation. There is another gate for calculating the output-values of the recurrent unit. The implementation of these gates vary for different types of recurrent units. This figure merely shows the abstract idea of a recurrent unit. The LSTM has more gates than the GRU but some of them are apparently redundant so they can be omitted.\n",
    "\n",
    "In order to train the recurrent unit, we must gradually change the weight-matrices of the gates so the recurrent unit gives the desired output for an input sequence. This is done automatically in TensorFlow.\n",
    "\n",
    "![Recurrent unit](images/20_recurrent_unit.png)"
   ]
  },
  {
   "cell_type": "markdown",
   "metadata": {},
   "source": [
    "### Unrolled Network\n",
    "\n",
    "Another way to visualize and understand a Recurrent Neural Network is to \"unroll\" the recursion. In this figure there is only a single recurrent unit denoted RU, which will receive a text-word from the input sequence in a series of time-steps.\n",
    "\n",
    "The initial memory-state of the RU is reset to zero internally by Keras / TensorFlow every time a new sequence begins.\n",
    "\n",
    "In the first time-step the word \"this\" is input to the RU which uses its internal state (initialized to zero) and its gate to calculate the new state. The RU also uses its other gate to calculate the output but it is ignored here because it is only needed at the end of the sequence to output a kind of summary.\n",
    "\n",
    "In the second time-step the word \"is\" is input to the RU which now uses the internal state that was just updated from seeing the previous word \"this\".\n",
    "\n",
    "There is not much meaning in the words \"this is\" so the RU probably doesn't save anything important in its internal state from seeing these words. But when it sees the third word \"not\" the RU has learned that it may be important for determining the overall sentiment of the input-text, so it needs to be stored in the memory-state of the RU, which can be used later when the RU sees the word \"good\" in time-step 6.\n",
    "\n",
    "Finally when the entire sequence has been processed, the RU outputs a vector of values that summarizes what it has seen in the input sequence. We then use a fully-connected layer with a Sigmoid activation to get a single value between 0.0 and 1.0 which we interpret as the sentiment either being negative (values close to 0.0) or positive (values close to 1.0).\n",
    "\n",
    "Note that for the sake of clarity, this figure doesn't show the mapping from text-words to integer-tokens and embedding-vectors, as well as the fully-connected Sigmoid layer on the output.\n",
    "\n",
    "![Unrolled network](images/20_unrolled_flowchart.png)"
   ]
  },
  {
   "cell_type": "markdown",
   "metadata": {},
   "source": [
    "### 3-Layer Unrolled Network\n",
    "\n",
    "In this tutorial we will use a Recurrent Neural Network with 3 recurrent units (or layers) denoted RU1, RU2 and RU3 in the \"unrolled\" figure below.\n",
    "\n",
    "The first layer is much like the unrolled figure above for a single-layer RNN. First the recurrent unit RU1 has its internal state initialized to zero by Keras / TensorFlow. Then the word \"this\" is input to RU1 and it updates its internal state. Then it processes the next word \"is\", and so forth. But instead of outputting a single summary value at the end of the sequence, we use the output of RU1 for every time-step. This creates a new sequence that can then be used as input for the next recurrent unit RU2. The same process is repeated for the second layer and this creates a new output sequence which is then input to the third layer's recurrent unit RU3, whose final output is passed to a fully-connected Sigmoid layer that outputs a value between 0.0 (negative sentiment) and 1.0 (positive sentiment).\n",
    "\n",
    "Note that for the sake of clarity, the mapping of text-words to integer-tokens and embedding-vectors has been omitted from this figure.\n",
    "\n",
    "![Unrolled 3-layer network](images/20_unrolled_3layers_flowchart.png)"
   ]
  },
  {
   "cell_type": "markdown",
   "metadata": {},
   "source": [
    "### Exploding & Vanishing Gradients\n",
    "\n",
    "In order to train the weights for the gates inside the recurrent unit, we need to minimize some loss-function which measures the difference between the actual output of the network relative to the desired output.\n",
    "\n",
    "From the \"unrolled\" figures above we see that the reccurent units are applied recursively for each word in the input sequence. This means the recurrent gate is applied once for each time-step. The gradient-signals have to flow back from the loss-function all the way to the first time the recurrent gate is used. If the gradient of the recurrent gate is multiplicative, then we essentially have an exponential function.\n",
    "\n",
    "In this tutorial we will use texts that have more than 500 words. This means the RU's gate for updating its internal memory-state is applied recursively more than 500 times. If a gradient of just 1.01 is multiplied with itself 500 times then it gives a value of about 145. If a gradient of just 0.99 is multiplied with itself 500 times then it gives a value of about 0.007. These are called exploding and vanishing gradients. The only gradients that can survive recurrent multiplication are 0 and 1.\n",
    "\n",
    "To avoid these so-called exploding and vanishing gradients, care must be made when designing the recurrent unit and its gates. That is why the actual implementation of the GRU is more complicated, because it tries to send the gradient back through the gates without this distortion."
   ]
  },
  {
   "cell_type": "markdown",
   "metadata": {},
   "source": [
    "## Imports"
   ]
  },
  {
   "cell_type": "code",
   "execution_count": 1,
   "metadata": {},
   "outputs": [],
   "source": [
    "%matplotlib inline\n",
    "import matplotlib.pyplot as plt\n",
    "import tensorflow as tf\n",
    "import numpy as np\n",
    "from scipy.spatial.distance import cdist"
   ]
  },
  {
   "cell_type": "markdown",
   "metadata": {},
   "source": [
    "We need to import several things from Keras."
   ]
  },
  {
   "cell_type": "code",
   "execution_count": 2,
   "metadata": {},
   "outputs": [],
   "source": [
    "# from tf.keras.models import Sequential  # This does not work!\n",
    "from tensorflow.python.keras.models import Sequential\n",
    "from tensorflow.python.keras.layers import Dense, GRU, Embedding\n",
    "from tensorflow.python.keras.optimizers import Adam\n",
    "from tensorflow.python.keras.preprocessing.text import Tokenizer\n",
    "from tensorflow.python.keras.preprocessing.sequence import pad_sequences"
   ]
  },
  {
   "cell_type": "markdown",
   "metadata": {},
   "source": [
    "This was developed using Python 3.6 (Anaconda) and package versions:"
   ]
  },
  {
   "cell_type": "code",
   "execution_count": 3,
   "metadata": {
    "scrolled": false
   },
   "outputs": [
    {
     "data": {
      "text/plain": [
       "'1.12.0'"
      ]
     },
     "execution_count": 3,
     "metadata": {},
     "output_type": "execute_result"
    }
   ],
   "source": [
    "tf.__version__"
   ]
  },
  {
   "cell_type": "code",
   "execution_count": 4,
   "metadata": {
    "scrolled": true
   },
   "outputs": [
    {
     "data": {
      "text/plain": [
       "'2.1.6-tf'"
      ]
     },
     "execution_count": 4,
     "metadata": {},
     "output_type": "execute_result"
    }
   ],
   "source": [
    "tf.keras.__version__"
   ]
  },
  {
   "cell_type": "markdown",
   "metadata": {},
   "source": [
    "## Load Data\n",
    "\n",
    "We will use a data-set consisting of 50000 reviews of movies from IMDB. Keras has a built-in function for downloading a similar data-set (but apparently half the size). However, Keras' version has already converted the text in the data-set to integer-tokens, which is a crucial part of working with natural languages that will also be demonstrated in this tutorial, so we download the actual text-data.\n",
    "\n",
    "NOTE: The data-set is 84 MB and will be downloaded automatically."
   ]
  },
  {
   "cell_type": "code",
   "execution_count": 5,
   "metadata": {},
   "outputs": [],
   "source": [
    "import imdb"
   ]
  },
  {
   "cell_type": "markdown",
   "metadata": {},
   "source": [
    "Change this if you want the files saved in another directory."
   ]
  },
  {
   "cell_type": "code",
   "execution_count": 6,
   "metadata": {},
   "outputs": [],
   "source": [
    "# imdb.data_dir = \"data/IMDB/\""
   ]
  },
  {
   "cell_type": "markdown",
   "metadata": {},
   "source": [
    "Automatically download and extract the files."
   ]
  },
  {
   "cell_type": "code",
   "execution_count": 8,
   "metadata": {},
   "outputs": [
    {
     "name": "stdout",
     "output_type": "stream",
     "text": [
      "- Download progress: 100.0%\n",
      "Download finished. Extracting files.\n",
      "Done.\n"
     ]
    }
   ],
   "source": [
    "imdb.maybe_download_and_extract()"
   ]
  },
  {
   "cell_type": "markdown",
   "metadata": {},
   "source": [
    "Load the training- and test-sets."
   ]
  },
  {
   "cell_type": "code",
   "execution_count": 9,
   "metadata": {},
   "outputs": [],
   "source": [
    "x_train_text, y_train = imdb.load_data(train=True)\n",
    "x_test_text, y_test = imdb.load_data(train=False)"
   ]
  },
  {
   "cell_type": "code",
   "execution_count": 10,
   "metadata": {},
   "outputs": [
    {
     "name": "stdout",
     "output_type": "stream",
     "text": [
      "Train-set size:  25000\n",
      "Test-set size:   25000\n"
     ]
    }
   ],
   "source": [
    "print(\"Train-set size: \", len(x_train_text))\n",
    "print(\"Test-set size:  \", len(x_test_text))"
   ]
  },
  {
   "cell_type": "markdown",
   "metadata": {},
   "source": [
    "Combine into one data-set for some uses below."
   ]
  },
  {
   "cell_type": "code",
   "execution_count": null,
   "metadata": {},
   "outputs": [],
   "source": []
  },
  {
   "cell_type": "code",
   "execution_count": 13,
   "metadata": {},
   "outputs": [],
   "source": [
    "data_text = x_train_text + x_test_text"
   ]
  },
  {
   "cell_type": "markdown",
   "metadata": {},
   "source": [
    "Print an example from the training-set to see that the data looks correct."
   ]
  },
  {
   "cell_type": "code",
   "execution_count": 14,
   "metadata": {},
   "outputs": [
    {
     "data": {
      "text/plain": [
       "'I LOVED GOOD TIMES with the rest of many of you. I love reading INTELLIGENT and INSIGHTFUL commentary. The writers on THIS show were fantastic and the Actors were beyond TALENTED. To answer Strawberry22 (the neatest commentary to the other superior and positive commentary)...What happened was that James was killed in an accident (I believe I remember that it was a trucking accident or car accident) and it was the saddest episode (when it first aired and I was a tiny thing...it was so sad to me..).<br /><br />Florida and the Children actually get out of the projects and EVEN become neighbors with Willona (Wilnona) and that is how the very last show ended.<br /><br />ALL of the children achieved their dreams and found opportunity in each of their dreams. It was a wonderful ending and I cried because I was happy for them and the show seemed so realistic that I actually believed in their fate. I hope that this kind of ending rings true in actually for many.<br /><br />A great show and many other great shows followed including Benson and The Jeffersons. This was an awesome period for African-American television and the best writers were awesome at that time. TV LAND is Awesome for the memories and I just LOVE it because I cannot STAND the junk that we are watching today. SOMEBODY...bring back the 1970s and 1980s quickly...your intelligent viewers are a dying breed out here and we need better material.<br /><br />Love, a TV LAND original sitcom junkie of the 70s and 80s (as they sing in \"ALL in the Family\"...those were the days......'"
      ]
     },
     "execution_count": 14,
     "metadata": {},
     "output_type": "execute_result"
    }
   ],
   "source": [
    "x_train_text[1]"
   ]
  },
  {
   "cell_type": "markdown",
   "metadata": {},
   "source": [
    "The true \"class\" is a sentiment of the movie-review. It is a value of 0.0 for a negative sentiment and 1.0 for a positive sentiment. In this case the review is positive."
   ]
  },
  {
   "cell_type": "code",
   "execution_count": 15,
   "metadata": {},
   "outputs": [
    {
     "data": {
      "text/plain": [
       "1.0"
      ]
     },
     "execution_count": 15,
     "metadata": {},
     "output_type": "execute_result"
    }
   ],
   "source": [
    "y_train[1]"
   ]
  },
  {
   "cell_type": "markdown",
   "metadata": {},
   "source": [
    "## Tokenizer\n",
    "\n",
    "A neural network cannot work directly on text-strings so we must convert it somehow. There are two steps in this conversion, the first step is called the \"tokenizer\" which converts words to integers and is done on the data-set before it is input to the neural network. The second step is an integrated part of the neural network itself and is called the \"embedding\"-layer, which is described further below.\n",
    "\n",
    "We may instruct the tokenizer to only use e.g. the 10000 most popular words from the data-set."
   ]
  },
  {
   "cell_type": "code",
   "execution_count": 16,
   "metadata": {},
   "outputs": [],
   "source": [
    "num_words = 10000"
   ]
  },
  {
   "cell_type": "code",
   "execution_count": 17,
   "metadata": {
    "scrolled": true
   },
   "outputs": [],
   "source": [
    "tokenizer = Tokenizer(num_words=num_words)"
   ]
  },
  {
   "cell_type": "markdown",
   "metadata": {},
   "source": [
    "The tokenizer can then be \"fitted\" to the data-set. This scans through all the text and strips it from unwanted characters such as punctuation, and also converts it to lower-case characters. The tokenizer then builds a vocabulary of all unique words along with various data-structures for accessing the data.\n",
    "\n",
    "Note that we fit the tokenizer on the entire data-set so it gathers words from both the training- and test-data. This is OK as we are merely building a vocabulary and want it to be as complete as possible. The actual neural network will of course only be trained on the training-set."
   ]
  },
  {
   "cell_type": "code",
   "execution_count": 18,
   "metadata": {},
   "outputs": [
    {
     "name": "stdout",
     "output_type": "stream",
     "text": [
      "CPU times: user 9.58 s, sys: 0 ns, total: 9.58 s\n",
      "Wall time: 9.6 s\n"
     ]
    }
   ],
   "source": [
    "%%time\n",
    "tokenizer.fit_on_texts(data_text)"
   ]
  },
  {
   "cell_type": "markdown",
   "metadata": {},
   "source": [
    "If you want to use the entire vocabulary then set `num_words=None` above, and then it will automatically be set to the vocabulary-size here. (This is because of Keras' somewhat awkward implementation.)"
   ]
  },
  {
   "cell_type": "code",
   "execution_count": 19,
   "metadata": {},
   "outputs": [],
   "source": [
    "if num_words is None:\n",
    "    num_words = len(tokenizer.word_index)"
   ]
  },
  {
   "cell_type": "markdown",
   "metadata": {},
   "source": [
    "We can then inspect the vocabulary that has been gathered by the tokenizer. This is ordered by the number of occurrences of the words in the data-set. These integer-numbers are called word indices or \"tokens\" because they uniquely identify each word in the vocabulary."
   ]
  },
  {
   "cell_type": "code",
   "execution_count": 20,
   "metadata": {},
   "outputs": [
    {
     "data": {
      "text/plain": [
       "{'barbeau': 21473,\n",
       " 'boel': 83026,\n",
       " \"tobias'\": 56461,\n",
       " 'civics': 37966,\n",
       " 'remade': 6043,\n",
       " 'pencil': 14909,\n",
       " 'pick': 1183,\n",
       " 'sayang': 93684,\n",
       " 'rhames': 28971,\n",
       " 'daughtery': 100285,\n",
       " 'resolves': 20261,\n",
       " 'lidz': 49085,\n",
       " 'gto': 53887,\n",
       " \"temple's\": 26626,\n",
       " 'alothugh': 89159,\n",
       " \"coles'\": 94014,\n",
       " 'ladylove': 61033,\n",
       " \"'80's\": 11138,\n",
       " \"sim's\": 42341,\n",
       " 'supplying': 18159,\n",
       " 'wendingo': 93067,\n",
       " 'midge': 33677,\n",
       " 'moose': 17258,\n",
       " '1932': 8335,\n",
       " 'blurr': 75583,\n",
       " 'vegemite': 119571,\n",
       " 'documentation': 22754,\n",
       " \"romy's\": 43977,\n",
       " \"'mouth'\": 81572,\n",
       " 'cost': 2134,\n",
       " 'avent': 95049,\n",
       " 'bilar': 122240,\n",
       " 'ozu': 16709,\n",
       " \"swanson's\": 38585,\n",
       " 'encouragement': 22020,\n",
       " 'snorkeling': 99469,\n",
       " \"merry's\": 53216,\n",
       " 'petonella': 111699,\n",
       " 'demeanour': 23053,\n",
       " 'institution': 6251,\n",
       " 'wildebeests': 65419,\n",
       " 'belly': 6260,\n",
       " 'soutendjik': 72902,\n",
       " 'ozawa': 67328,\n",
       " \"'picnic'\": 95184,\n",
       " 'tripe': 4568,\n",
       " 'epochal': 45037,\n",
       " 'subtility': 85965,\n",
       " 'squibs': 32049,\n",
       " 'categorise': 48504,\n",
       " 'tenny': 53649,\n",
       " 'reductionism': 83953,\n",
       " 'baronet': 69678,\n",
       " 'wilie': 99724,\n",
       " 'rigamarole': 91922,\n",
       " 'strips': 11682,\n",
       " 'havnt': 57059,\n",
       " 'insouciant': 108428,\n",
       " 'incorruptable': 80591,\n",
       " 'digresses': 120614,\n",
       " 'knell': 41523,\n",
       " \"'alive'\": 111754,\n",
       " 'calfifornia': 111366,\n",
       " 'marketers': 36671,\n",
       " \"rip's\": 115797,\n",
       " 'narcotizing': 115461,\n",
       " \"saks'\": 58404,\n",
       " 'succeeding': 11801,\n",
       " 'slops': 49756,\n",
       " 'shrinks': 21521,\n",
       " 'ascetics': 107965,\n",
       " 'injure': 35373,\n",
       " 'denison': 38097,\n",
       " 'subserviant': 78852,\n",
       " 'facemasks': 119330,\n",
       " \"'panel\": 81707,\n",
       " 'timidly': 40345,\n",
       " 'smiler': 62637,\n",
       " 'harbours': 41691,\n",
       " 'critisism': 75349,\n",
       " 'incredulities': 91549,\n",
       " 'tiffany': 11297,\n",
       " 'pappy': 23940,\n",
       " 'redemptions': 90973,\n",
       " 'mcgarten': 72379,\n",
       " 'urr': 121807,\n",
       " 'baise': 25229,\n",
       " 'decreed': 82093,\n",
       " 'songs': 720,\n",
       " 'schweifka': 102981,\n",
       " 'purvis': 18840,\n",
       " 'headhunters': 113014,\n",
       " 'kurta': 86283,\n",
       " 'rhys': 8746,\n",
       " 'sinuhe': 17506,\n",
       " 'alf’s': 110003,\n",
       " 'vexation': 73190,\n",
       " 'champs': 36284,\n",
       " 'martinique': 118733,\n",
       " 'vaults': 18163,\n",
       " \"edifis'\": 109077,\n",
       " 'ovaltine': 107737,\n",
       " 'aquarius': 27556,\n",
       " 'paraday': 79729,\n",
       " 'poppers': 75977,\n",
       " 'interpreter': 21282,\n",
       " 'faraday': 82777,\n",
       " 'pence': 36359,\n",
       " \"enya's\": 80598,\n",
       " 'andrò': 120632,\n",
       " 'legrand': 35233,\n",
       " 'kochan': 122280,\n",
       " 'juxtapositions': 31871,\n",
       " 'convalescing': 84408,\n",
       " 'kendrew': 110851,\n",
       " 'lamore': 58784,\n",
       " 'todesking': 17050,\n",
       " \"'watchable\": 66599,\n",
       " 'cragg': 36570,\n",
       " 'espions': 111893,\n",
       " 'womanizing': 12376,\n",
       " 'adorable': 4380,\n",
       " 'ploi': 117148,\n",
       " 'arvide': 77463,\n",
       " 'fairgate': 116100,\n",
       " \"sutherland's\": 15215,\n",
       " 'histrionic': 17780,\n",
       " 'pneumaticaly': 97129,\n",
       " \"wfmitchell's\": 115057,\n",
       " \"brosnon's\": 75781,\n",
       " 'morto': 76685,\n",
       " 'potrayal': 111792,\n",
       " \"tension'\": 121806,\n",
       " \"moliere's\": 72631,\n",
       " 'unbelievers': 41775,\n",
       " 'semisubmerged': 90430,\n",
       " \"pictures'\": 30142,\n",
       " 'queequeg': 94122,\n",
       " \"'interviews'\": 110629,\n",
       " 'cossey': 81986,\n",
       " 'outlooks': 43153,\n",
       " 'migration': 19647,\n",
       " 'trackspeeder': 89652,\n",
       " 'darrin': 39788,\n",
       " 'percolating': 49934,\n",
       " 'calculated': 11862,\n",
       " 'besets': 85482,\n",
       " 'sloooow': 41646,\n",
       " 'incomprehension': 68404,\n",
       " '\\x85making': 79428,\n",
       " 'waterloo': 21649,\n",
       " 'boulders': 24608,\n",
       " \"'raat\": 106959,\n",
       " \"levene's\": 58552,\n",
       " \"waters'\": 17867,\n",
       " 'arnaz': 26729,\n",
       " 'ploitation': 112179,\n",
       " \"'madigan'\": 108637,\n",
       " \"'grand\": 41341,\n",
       " 'compatable': 85309,\n",
       " 'mclean': 33516,\n",
       " 'mesmerising': 18630,\n",
       " \"in'85\": 71955,\n",
       " 'muscatel': 113065,\n",
       " 'grizly': 72353,\n",
       " 'holodeck': 25036,\n",
       " 'inattentiveness': 56580,\n",
       " 'avidsen': 107250,\n",
       " 'disturbingly': 16868,\n",
       " \"'personnel\": 120476,\n",
       " 'aboutboul': 120182,\n",
       " \"burnama's\": 123625,\n",
       " \"uderzo's\": 104511,\n",
       " 'denouement': 7373,\n",
       " 'lazarushian': 76162,\n",
       " 'epa': 70587,\n",
       " 'talents': 2009,\n",
       " 'scores': 4313,\n",
       " 'dredd': 46957,\n",
       " 'coed': 25970,\n",
       " 'howled': 45346,\n",
       " 'kesan': 104340,\n",
       " 'gunpoint': 15145,\n",
       " 'tanvi': 68593,\n",
       " 'editions': 19421,\n",
       " 'shintarô': 43949,\n",
       " 'plummeting': 30041,\n",
       " 'complexes': 40193,\n",
       " 'verucci': 82834,\n",
       " 'northstar': 54927,\n",
       " \"'accurate'\": 82133,\n",
       " \"'stories'\": 97922,\n",
       " 'commedy': 119564,\n",
       " 'machinations': 11505,\n",
       " 'nickman': 119740,\n",
       " 'chastising': 41244,\n",
       " 'catskills': 41894,\n",
       " 'dilettante': 27152,\n",
       " 'bidet': 118587,\n",
       " 'mambo\\x85': 71951,\n",
       " 'parochialism': 79570,\n",
       " 'fantasticaly': 85094,\n",
       " 'prepped': 52112,\n",
       " 'klineschloss': 61034,\n",
       " 'mirages': 38076,\n",
       " 'groupies': 33877,\n",
       " 'eyeballs': 10751,\n",
       " 'irwins': 92861,\n",
       " 'agoraphobic': 56841,\n",
       " 'decent': 540,\n",
       " \"guitar'\": 87357,\n",
       " \"'noooo\": 86532,\n",
       " 'errs': 56637,\n",
       " 'poliwhirl': 90790,\n",
       " 'epics': 7430,\n",
       " 'homies': 37952,\n",
       " '…until': 103184,\n",
       " 'handy': 8242,\n",
       " \"branagh's\": 9794,\n",
       " \"kelemen's\": 74711,\n",
       " 'busia': 49403,\n",
       " 'tron': 23287,\n",
       " 'rajini': 51091,\n",
       " 'incredibile': 98950,\n",
       " 'warm': 2357,\n",
       " 'erik': 10816,\n",
       " 'ks': 24085,\n",
       " 'inanely': 43444,\n",
       " 'employing': 16166,\n",
       " 'lydia': 22343,\n",
       " \"walrus'\": 54935,\n",
       " 'flemming': 19928,\n",
       " 'daylights': 26139,\n",
       " 'grind': 11251,\n",
       " 'orsini': 115619,\n",
       " 'outisde': 110124,\n",
       " 'belzan': 105538,\n",
       " 'lounge': 15972,\n",
       " 'campiness': 18024,\n",
       " 'cinders': 58249,\n",
       " \"off'\": 21987,\n",
       " 'spiderwick': 113891,\n",
       " 'remark': 8156,\n",
       " 'chartbusters': 104622,\n",
       " 'killer': 494,\n",
       " 'flowless': 83727,\n",
       " 'punctuations': 76546,\n",
       " 'slating': 51588,\n",
       " 'chavez': 8902,\n",
       " 'authorty': 87794,\n",
       " 'melin': 86368,\n",
       " 'bulge': 31967,\n",
       " \"adventure'\": 25927,\n",
       " 'tingle': 15680,\n",
       " 'shoddier': 90093,\n",
       " 'behooves': 74289,\n",
       " 'koppel': 107213,\n",
       " \"'its\": 40684,\n",
       " 'cosmetologist': 107394,\n",
       " \"hart's\": 19127,\n",
       " \"'malcom'\": 64570,\n",
       " 'doogal': 116481,\n",
       " '12': 1668,\n",
       " 'dethroning': 82306,\n",
       " 'unscientific': 36186,\n",
       " 'crump': 40643,\n",
       " 'grouting': 114135,\n",
       " 'gené': 47115,\n",
       " 'propose': 18835,\n",
       " 'powerlessly': 81343,\n",
       " 'approximation': 26938,\n",
       " 'balraj': 77741,\n",
       " \"lemon's\": 77554,\n",
       " 'eeeeeeevil': 97279,\n",
       " 'luz': 45120,\n",
       " 'reward': 6327,\n",
       " \"miuras'\": 122556,\n",
       " 'bastion': 29002,\n",
       " \"'arriba\": 86818,\n",
       " 'kern\\x85': 108773,\n",
       " 'horribleness': 46338,\n",
       " 'dierdre': 89342,\n",
       " 'republished': 69987,\n",
       " 'abets': 57522,\n",
       " 'miserable': 4169,\n",
       " 'metals': 59823,\n",
       " 'utah´s': 111393,\n",
       " 'substituting': 16034,\n",
       " 'blight': 31966,\n",
       " \"ramón's\": 31029,\n",
       " 'westernised': 64731,\n",
       " 'commend': 13119,\n",
       " 'basora': 84571,\n",
       " 'frodis': 99272,\n",
       " \"l'affaire\": 94841,\n",
       " \"'encounters'\": 101865,\n",
       " 'imperialism': 23821,\n",
       " 'purports': 16274,\n",
       " 'boromir': 36015,\n",
       " '4x4': 89516,\n",
       " 'punkette': 65834,\n",
       " 'freemasons': 46333,\n",
       " 'unsolvable': 55027,\n",
       " 'sidearm': 64517,\n",
       " 'rgb': 78434,\n",
       " \"row'\": 63509,\n",
       " 'aboriginal': 14542,\n",
       " 'derided': 28222,\n",
       " 'correli´s': 107707,\n",
       " 'destructivist': 122021,\n",
       " 'magdalene': 28375,\n",
       " 'pathetically': 9620,\n",
       " \"'tommy\": 38491,\n",
       " 'pillar': 19339,\n",
       " 'malina': 71644,\n",
       " 'cockallorum': 55246,\n",
       " 'werecat': 91503,\n",
       " 'mosh': 64221,\n",
       " 'guy\\x96his': 89832,\n",
       " 'enyanesque': 111959,\n",
       " \"mcburney's\": 102095,\n",
       " 'antonis': 81651,\n",
       " 'demille': 9180,\n",
       " 'psychoses': 50632,\n",
       " 'hauteur': 63451,\n",
       " 'gazzaras': 82836,\n",
       " 'tremendous': 3506,\n",
       " \"ramis'\": 94819,\n",
       " 'opposites': 15420,\n",
       " 'pummel': 34693,\n",
       " 'hassan': 10753,\n",
       " 'keeley': 20549,\n",
       " 'hyland': 44860,\n",
       " 'attained': 17329,\n",
       " 'manipulations': 21847,\n",
       " \"'crossroads'\": 63974,\n",
       " 'mix': 1539,\n",
       " 'madrigal': 56947,\n",
       " 'lack': 574,\n",
       " 'lindfors': 80512,\n",
       " \"spooky'\": 71598,\n",
       " 'gaira': 105356,\n",
       " 'tnt': 18609,\n",
       " 'airing': 9042,\n",
       " 'toybox': 42624,\n",
       " 'kensett': 89438,\n",
       " 'propeganda': 91802,\n",
       " \"nations'\": 39712,\n",
       " 'heartbreak': 13141,\n",
       " 'tablespoon': 72258,\n",
       " \"halliwell's\": 111603,\n",
       " 'ajikko': 74526,\n",
       " 'ferren': 100001,\n",
       " 'pinnochios': 114811,\n",
       " 'lasergun': 91634,\n",
       " 'grauens': 75841,\n",
       " 'generosity': 19832,\n",
       " 'refracts': 101634,\n",
       " 'stiking': 116001,\n",
       " \"copy's\": 64480,\n",
       " 'publicize': 33305,\n",
       " \"'ham\": 99130,\n",
       " \"'killjoy\": 70520,\n",
       " 'sectional': 118000,\n",
       " 'down': 175,\n",
       " 'capri': 22670,\n",
       " 'forecourt': 65659,\n",
       " 'snappy': 8064,\n",
       " 'triceratops': 39963,\n",
       " 'schfrin': 84098,\n",
       " 'farinacci': 91972,\n",
       " \"waltz'\": 71189,\n",
       " 'wrangled': 48513,\n",
       " \"'laserblast\": 97726,\n",
       " \"shindler's\": 74956,\n",
       " '149': 50256,\n",
       " 'hogging': 45758,\n",
       " 'cloussou': 107735,\n",
       " \"shutterbug's\": 72646,\n",
       " \"portugal's\": 115844,\n",
       " 'registry': 39393,\n",
       " 'exxon': 50784,\n",
       " 'neise': 63513,\n",
       " 'franziska': 50545,\n",
       " 'monuments': 31680,\n",
       " 'witzland': 55391,\n",
       " 'pontente': 75622,\n",
       " 'theatregoers': 91302,\n",
       " 'connie': 9763,\n",
       " 'isolationism': 61300,\n",
       " 'councillor': 71691,\n",
       " 'yentl': 21901,\n",
       " 'boilers': 48969,\n",
       " 'nastiness': 16681,\n",
       " \"zuniga's\": 90404,\n",
       " 'divo': 103415,\n",
       " \"bull'\": 67923,\n",
       " 'fluffed': 63783,\n",
       " \"'mikey'\": 113551,\n",
       " 'promise': 2200,\n",
       " 'unsavoury': 32053,\n",
       " \"'sense'\": 91586,\n",
       " 'promising': 2412,\n",
       " 'phase': 7158,\n",
       " \"'interloper'\": 77102,\n",
       " 'crunchy': 54119,\n",
       " \"3's\": 39673,\n",
       " \"anything's\": 36412,\n",
       " 'lumbly': 50111,\n",
       " \"bathsheba'\": 59670,\n",
       " 'lkhubble2': 101934,\n",
       " 'elegius': 63064,\n",
       " 'qaulen': 73620,\n",
       " \"barrow's\": 93459,\n",
       " \"kenneth's\": 100146,\n",
       " 'outgrowth': 54195,\n",
       " \"'dawn\": 45966,\n",
       " \"naor's\": 112865,\n",
       " 'blitz': 18773,\n",
       " 'pantoliano': 22962,\n",
       " 'juran': 54835,\n",
       " 'assessing': 34094,\n",
       " 'bekenner': 70678,\n",
       " 'butting': 37574,\n",
       " 'fuddruckers': 99156,\n",
       " 'tentatively': 37680,\n",
       " 'hom': 29572,\n",
       " \"'pros'\": 104903,\n",
       " 'insulin': 47423,\n",
       " 'paymer': 19544,\n",
       " 'leasing': 111281,\n",
       " 'bed': 1264,\n",
       " \"'kilts\": 100704,\n",
       " 'buddha': 21715,\n",
       " \"alt's\": 115682,\n",
       " 'caravaggio': 22900,\n",
       " \"music's\": 25802,\n",
       " 'gained': 6209,\n",
       " 'lügnix': 110626,\n",
       " 'subgroup': 64898,\n",
       " 'holt': 10703,\n",
       " 'extremely': 568,\n",
       " 'wonderwoman': 68440,\n",
       " 'size': 3260,\n",
       " 'bian': 43814,\n",
       " 'whitmire': 49233,\n",
       " 'bicho': 103483,\n",
       " 'documnetary': 77542,\n",
       " 'britans': 119219,\n",
       " 'faultline': 74793,\n",
       " 'connors': 10601,\n",
       " 'airwolfs': 80736,\n",
       " 'mcguire': 15169,\n",
       " 'aftra': 51076,\n",
       " 'johgn': 105831,\n",
       " 'manors': 107631,\n",
       " \"'catch\": 83015,\n",
       " 'inscribed': 40186,\n",
       " 'wit': 2276,\n",
       " 'sakrileg': 113540,\n",
       " 'gemutlicheit': 109331,\n",
       " \"larraz'\": 53121,\n",
       " 'torin': 64906,\n",
       " \"'owners'\": 77130,\n",
       " 'skeeter': 68296,\n",
       " 'decrementing': 90097,\n",
       " 'willians': 84650,\n",
       " 'handgun': 23327,\n",
       " 'verger”': 84669,\n",
       " 'lensman': 21558,\n",
       " 'paradigm': 20676,\n",
       " 'lowly': 15091,\n",
       " \"cappomaggi's\": 82542,\n",
       " \"cassanova's\": 77789,\n",
       " 'emefy': 73624,\n",
       " 'destabilise': 65586,\n",
       " 'witnessed': 4200,\n",
       " \"'geezer'\": 86510,\n",
       " 'fola': 103319,\n",
       " 'add': 726,\n",
       " 'lidth': 80329,\n",
       " \"'wild\": 27192,\n",
       " 'anglosaxon': 110505,\n",
       " \"'love's\": 84017,\n",
       " \"broken's\": 48670,\n",
       " 'carte': 35258,\n",
       " '“big': 118503,\n",
       " 'magictrain': 57896,\n",
       " \"carnby's\": 96060,\n",
       " 'additive': 75458,\n",
       " 'leafs': 30964,\n",
       " 'variations': 10565,\n",
       " \"calvet's\": 76295,\n",
       " \"'soggy\": 111449,\n",
       " 'fulfilled': 9434,\n",
       " 'rod': 5482,\n",
       " 'gleefully': 12531,\n",
       " 'russain': 77486,\n",
       " \"ej's\": 61112,\n",
       " \"'cleanse'\": 122952,\n",
       " 'gagne': 53329,\n",
       " 'topactor': 83852,\n",
       " 'leland': 7307,\n",
       " 'aristocats': 14231,\n",
       " 'lartigau': 56631,\n",
       " 'accepted': 2883,\n",
       " 'salter': 47522,\n",
       " 'magnums': 67166,\n",
       " \"'deadly'\": 113466,\n",
       " 'frisco': 30543,\n",
       " 'castleville': 62346,\n",
       " 'gametrailers': 123270,\n",
       " 'plainsman': 44506,\n",
       " 'infuse': 26161,\n",
       " 'secondus': 82691,\n",
       " 'narnia': 24966,\n",
       " 'initiators': 99461,\n",
       " \"sonja'\": 38673,\n",
       " 'sossaman': 90188,\n",
       " 'thay': 96680,\n",
       " 'transience': 56804,\n",
       " 'rips': 7596,\n",
       " 'mutations': 42047,\n",
       " 'lokis': 72263,\n",
       " 'coats': 16101,\n",
       " 'mplex': 77829,\n",
       " 'waldos': 109281,\n",
       " \"deceased's\": 120360,\n",
       " 'stegosaurs': 99481,\n",
       " \"'bosie'\": 110004,\n",
       " 'brezina': 105075,\n",
       " \"zanuck's\": 41306,\n",
       " 'sigurðusson': 103143,\n",
       " 'matey': 97251,\n",
       " 'bystander': 19733,\n",
       " 'reed’s': 80623,\n",
       " 'bloss': 32415,\n",
       " 'heartthrobs': 42820,\n",
       " 'batcave': 36471,\n",
       " 'roadie': 23552,\n",
       " 'maelstrom': 29476,\n",
       " 'zones': 22047,\n",
       " 'tripling': 103175,\n",
       " 'galaxina': 21201,\n",
       " 'brent': 8914,\n",
       " 'myronex': 67505,\n",
       " 'forgive': 3436,\n",
       " 'persecuting': 56409,\n",
       " \"fear'\": 40795,\n",
       " 'abusively': 58184,\n",
       " 'shillabeer': 81241,\n",
       " 'sun': 2535,\n",
       " 'centrically': 96202,\n",
       " 'protocols': 63155,\n",
       " \"hillerman's\": 55409,\n",
       " 'flopped': 12509,\n",
       " 'toneless': 112615,\n",
       " 'essentially': 1974,\n",
       " \"christmas'\": 32479,\n",
       " 'splitz': 94373,\n",
       " 'constipation': 31001,\n",
       " 'sleaze': 4850,\n",
       " 'reviving': 17612,\n",
       " \"rep'ing\": 105820,\n",
       " 'cleansed': 48077,\n",
       " 'ladder': 6532,\n",
       " 'orientating': 122810,\n",
       " 'stard': 100405,\n",
       " 'jukeboxes': 51322,\n",
       " 'illuminated': 10066,\n",
       " 'andersen': 29199,\n",
       " 'dirtballs': 81121,\n",
       " \"'awfully\": 101422,\n",
       " 'hillyer': 24417,\n",
       " 'asphalted': 112353,\n",
       " 'confucious': 76746,\n",
       " 'unbeaten': 110153,\n",
       " 'suspense': 757,\n",
       " \"impersonator's\": 77628,\n",
       " 'almeida': 30729,\n",
       " 'notwithstanding': 9366,\n",
       " \"ja'net\": 91113,\n",
       " 'telefoni': 81027,\n",
       " 'fling': 11523,\n",
       " 'tiburon': 64619,\n",
       " 'burdick': 104596,\n",
       " 'bracketed': 57680,\n",
       " 'nations': 6398,\n",
       " 'joanou': 115487,\n",
       " 'corneal': 93605,\n",
       " 'xiaofeng': 69376,\n",
       " 'myrnah': 73499,\n",
       " 'realllllllly': 90229,\n",
       " 'ritchkoff': 70549,\n",
       " 'peronism': 88662,\n",
       " 'pension': 20185,\n",
       " 'tickling': 25866,\n",
       " 'spinechilling': 73272,\n",
       " 'fearful': 13297,\n",
       " 'allotment': 54625,\n",
       " \"'hhmm\": 101379,\n",
       " \"'stagecoach\": 108567,\n",
       " 'railroads': 37375,\n",
       " 'bichunmoo': 101051,\n",
       " 'circumcision': 56462,\n",
       " 'filmgoers': 23607,\n",
       " 'insoluble': 58462,\n",
       " 'soviets': 13938,\n",
       " 'nemec': 27951,\n",
       " 'extern': 103900,\n",
       " \"vd's\": 47820,\n",
       " 'blaxpoitation': 47630,\n",
       " \"thru'\": 89003,\n",
       " 'bulgaia': 116626,\n",
       " 'adriensen': 93060,\n",
       " 'forest¨': 81132,\n",
       " 'answears': 90135,\n",
       " \"donaggios'\": 108298,\n",
       " 'aloknath': 96570,\n",
       " 'computeranimation': 87876,\n",
       " \"beer'\": 86457,\n",
       " \"web'\": 115567,\n",
       " 'skeltor': 118600,\n",
       " 'eck': 88292,\n",
       " 'decaprio': 45545,\n",
       " 'teddi': 42011,\n",
       " 'sonar': 44037,\n",
       " \"eureka's\": 73652,\n",
       " 'priminister': 116683,\n",
       " 'lace': 20216,\n",
       " 'herculis': 65701,\n",
       " \"bankie's\": 99600,\n",
       " \"cate's\": 39366,\n",
       " 'glade': 99694,\n",
       " 'beheads': 43886,\n",
       " \"cashier's\": 59874,\n",
       " 'tile': 29888,\n",
       " \"exec's\": 115638,\n",
       " \"audience's\": 7394,\n",
       " 'vieg': 91359,\n",
       " 'wk00817': 84957,\n",
       " 'hammiest': 54141,\n",
       " 'depute': 116724,\n",
       " 'navigation': 30146,\n",
       " \"cbe's\": 100105,\n",
       " 'brigadoon': 25022,\n",
       " 'denim': 32659,\n",
       " 'nimble': 28401,\n",
       " 'regains': 20476,\n",
       " 'fretting': 36370,\n",
       " 'palladium': 82505,\n",
       " 'lure': 9240,\n",
       " '3h': 103996,\n",
       " 'hallucinate': 42195,\n",
       " 'sades': 91822,\n",
       " 'replication': 49441,\n",
       " '¾': 45899,\n",
       " \"maltin's\": 28002,\n",
       " 'odysseia': 87638,\n",
       " \"msmyth's\": 72090,\n",
       " 'controller': 17525,\n",
       " \"percy's\": 56347,\n",
       " 'elton': 9984,\n",
       " 'recoiled': 119717,\n",
       " 'teigen': 120016,\n",
       " 'sturdy': 14742,\n",
       " 'telehobbie': 81601,\n",
       " 'eyecatching': 107399,\n",
       " 'atkins': 14175,\n",
       " 'festivities': 23797,\n",
       " 'masons': 49034,\n",
       " 'portugeuse': 79288,\n",
       " 'lumsden': 81273,\n",
       " 'wifeless': 110081,\n",
       " 'battleships': 45482,\n",
       " 'organiser': 63281,\n",
       " 'stine': 86813,\n",
       " 'miya': 22662,\n",
       " \"grigsby's\": 60142,\n",
       " 'barton': 10491,\n",
       " 'proposing': 27461,\n",
       " 'porchlight': 112928,\n",
       " 'taglines': 35743,\n",
       " \"hanley's\": 116239,\n",
       " \"'happy\": 25165,\n",
       " 'austerlich': 102550,\n",
       " \"nicholson's\": 17739,\n",
       " 'screwer': 81941,\n",
       " \"ah's\": 115874,\n",
       " 'transgressively': 74179,\n",
       " 'danon': 91348,\n",
       " \"something'\": 118832,\n",
       " 'nickolson': 95388,\n",
       " \"boat'\": 53018,\n",
       " 'basque': 30953,\n",
       " 'travilla': 109419,\n",
       " 'pu': 28737,\n",
       " 'masculine': 10288,\n",
       " 'rissi': 113640,\n",
       " 'sequences\\x85': 108569,\n",
       " \"trebor's\": 48201,\n",
       " 'zis': 29783,\n",
       " 'three': 277,\n",
       " 'symbolizes': 17306,\n",
       " \"schmidt's\": 58432,\n",
       " 'kirschner': 65916,\n",
       " 'providentially': 109601,\n",
       " 'kermode': 88085,\n",
       " 'touchingly': 26639,\n",
       " 'summaries': 22278,\n",
       " 'recurring': 7974,\n",
       " 'dias': 41049,\n",
       " \"'amantes'\": 109756,\n",
       " 'elaborative': 98911,\n",
       " 'stow': 39297,\n",
       " 'mariya': 89315,\n",
       " 'esmeralda': 53863,\n",
       " 'girdler': 38549,\n",
       " \"about''\": 123964,\n",
       " 'perusal': 99938,\n",
       " 'ordinated': 121740,\n",
       " 'equate': 20041,\n",
       " 'mecrury': 123693,\n",
       " \"kelly'\": 49028,\n",
       " 'bygones': 71520,\n",
       " 'psoriasis': 96052,\n",
       " 'visualizes': 61905,\n",
       " 'counseled': 62116,\n",
       " 'peak': 4671,\n",
       " 'neenan': 36537,\n",
       " \"lyin'\": 73782,\n",
       " \"'stellar\": 114873,\n",
       " 'tommy': 2892,\n",
       " 'village\\x96': 100950,\n",
       " 'rohrer': 115620,\n",
       " 'donnas': 63415,\n",
       " 'conversations': 3852,\n",
       " 'shepherdesses': 85918,\n",
       " 'thus': 1377,\n",
       " 'study': 2040,\n",
       " 'protelco': 96883,\n",
       " 'fatih': 50643,\n",
       " \"worthington's\": 70640,\n",
       " 'hormone': 30649,\n",
       " 'incovenient': 95965,\n",
       " 'seethes': 40527,\n",
       " \"dexter's\": 14518,\n",
       " 'gony': 76397,\n",
       " 'majid': 58669,\n",
       " 'naturalness': 20022,\n",
       " 'bay': 4526,\n",
       " 'rivulets': 121108,\n",
       " 'chim': 37697,\n",
       " \"dummies'\": 101371,\n",
       " \"sumpter's\": 71874,\n",
       " 'illusionist': 33521,\n",
       " 'uncultured': 41027,\n",
       " 'attorneys': 33269,\n",
       " 'hawes': 21916,\n",
       " 'grenville': 120267,\n",
       " 'ornament': 38852,\n",
       " 'onscreen': 14565,\n",
       " 'inarguably': 50468,\n",
       " 'jefe': 87708,\n",
       " 'intake': 28184,\n",
       " 'enclose': 100638,\n",
       " 'neds': 71976,\n",
       " 'majorette': 75995,\n",
       " 'eurpoeans': 112095,\n",
       " 'wfst': 72982,\n",
       " 'rightist': 58807,\n",
       " 'monstervision': 28790,\n",
       " 'inuyasha': 17053,\n",
       " 'orphaned': 14295,\n",
       " \"sharkey's\": 40675,\n",
       " 'rounding': 14858,\n",
       " 'connory': 78441,\n",
       " 'lgbt': 98090,\n",
       " 'shoes\\x85': 83755,\n",
       " 'malamal': 98431,\n",
       " 'cranked': 15599,\n",
       " 'attila': 27401,\n",
       " 'weasley': 47594,\n",
       " \"coward's\": 24340,\n",
       " 'trends': 15727,\n",
       " \"edge''\": 84034,\n",
       " 'gimick': 116181,\n",
       " 'modigliani': 69026,\n",
       " 'suckingly': 89862,\n",
       " 'undynamic': 64020,\n",
       " 'scimitar': 102704,\n",
       " 'ars': 104456,\n",
       " 'checkerboards': 106153,\n",
       " \"bechard's\": 54520,\n",
       " 'investigators': 16328,\n",
       " 'enervating': 36776,\n",
       " 'classicists': 58196,\n",
       " 'capper': 36551,\n",
       " 'tequila': 24249,\n",
       " 'bulimics': 48700,\n",
       " 'bassing': 121141,\n",
       " 'fantasists': 72768,\n",
       " \"assassin's\": 25119,\n",
       " 'hotchkins': 35625,\n",
       " \"bits'\": 70183,\n",
       " 'fuhram': 103179,\n",
       " 'tully': 16107,\n",
       " 'morningstar': 53681,\n",
       " 'invisibilation': 66468,\n",
       " \"'carlos\": 65170,\n",
       " 'resaw': 112252,\n",
       " 'propelled': 15715,\n",
       " 'appereance': 105471,\n",
       " 'shampoos': 107431,\n",
       " \"range'\": 108503,\n",
       " 'oxbridge': 70603,\n",
       " 'malo': 57102,\n",
       " \"daines'\": 124079,\n",
       " 'because': 84,\n",
       " 'shithouse': 101906,\n",
       " 'daneille': 89682,\n",
       " 'skylar': 119848,\n",
       " 'gadgetry': 71651,\n",
       " 'carelessly': 18680,\n",
       " 'saleswomen': 53684,\n",
       " 'juhl': 107468,\n",
       " 'passable': 4702,\n",
       " 'brucie': 122753,\n",
       " \"'craig'\": 72780,\n",
       " 'arraya': 119406,\n",
       " \"kitano's\": 50100,\n",
       " \"perabo's\": 93945,\n",
       " \"obers'\": 60800,\n",
       " 'sives': 107992,\n",
       " 'steadman': 51982,\n",
       " 'fought': 4488,\n",
       " \"'role'\": 43922,\n",
       " \"brontë's\": 25725,\n",
       " 'tuxedo': 23118,\n",
       " 'neuberger': 47887,\n",
       " 'tpb': 75962,\n",
       " 'khmmm': 109887,\n",
       " 'barnett': 37554,\n",
       " 'consider': 1175,\n",
       " 'apologies': 11428,\n",
       " 'fresson': 49970,\n",
       " 'dvd\\x85': 48933,\n",
       " 'ramundo': 58797,\n",
       " 'meeropol': 66854,\n",
       " 'dagma': 109665,\n",
       " 'dudleys': 75107,\n",
       " 'fantasticly': 79451,\n",
       " '80s': 2011,\n",
       " 'inadvertently': 7984,\n",
       " 'tester': 29951,\n",
       " 'wholes': 48798,\n",
       " 'formulatic': 86989,\n",
       " 'panjab': 73363,\n",
       " 'saber': 19158,\n",
       " 'daalu': 104019,\n",
       " \"radio'\": 100429,\n",
       " 'photographic': 13336,\n",
       " \"'masked\": 94102,\n",
       " 'alarik': 97570,\n",
       " 'guzman': 15903,\n",
       " 'bowser': 23083,\n",
       " 'enoyable': 107020,\n",
       " 'powerpuff': 35349,\n",
       " 'censure': 45232,\n",
       " \"moriarty's\": 30484,\n",
       " 'renauld': 33181,\n",
       " \"vario's\": 110443,\n",
       " \"luthorcorp's\": 77791,\n",
       " 'systematically': 19959,\n",
       " 'ramsay': 20333,\n",
       " 'suspend': 5521,\n",
       " 'operational': 65166,\n",
       " 'christiansen': 57957,\n",
       " 'lamé': 69701,\n",
       " 'tgwwt': 95335,\n",
       " 'abbas': 23563,\n",
       " 'mwanza': 31136,\n",
       " 'starts': 537,\n",
       " 'tassi': 20694,\n",
       " \"gainax's\": 57903,\n",
       " 'robustly': 85903,\n",
       " 'pockets': 13131,\n",
       " 'undertakings': 56867,\n",
       " 'homeguard': 103596,\n",
       " 'param': 95953,\n",
       " 'xxxxx': 119984,\n",
       " 'epsecially': 121679,\n",
       " 'deliriously': 25759,\n",
       " 'lamar': 28697,\n",
       " \"'rosalie'\": 83230,\n",
       " 'organised': 21364,\n",
       " 'ponder': 9167,\n",
       " \"'igla'\": 87687,\n",
       " \"roberts'\": 22488,\n",
       " 'vehemently': 27897,\n",
       " 'strickler': 47067,\n",
       " \"'cold'\": 69127,\n",
       " 'stats': 34323,\n",
       " 'misfiring': 35816,\n",
       " \"latt's\": 70915,\n",
       " 'outerlimits': 103489,\n",
       " 'incorporation': 50271,\n",
       " \"'steel'\": 62506,\n",
       " 'youve': 114918,\n",
       " \"hornaday's\": 89523,\n",
       " \"wait's\": 113703,\n",
       " 'bertleman': 98671,\n",
       " \"panther'\": 109854,\n",
       " 'bidwell': 68011,\n",
       " 'talmudic': 93739,\n",
       " 'slants': 42884,\n",
       " 'legalized': 46784,\n",
       " 'peeew': 87157,\n",
       " 'irc': 64540,\n",
       " 'knotted': 112038,\n",
       " \"railway'\": 107105,\n",
       " \"'vacation'\": 109514,\n",
       " 'unexploited': 120673,\n",
       " \"little's\": 104994,\n",
       " 'rumblefish': 89256,\n",
       " 'toback': 55882,\n",
       " \"smithee's\": 115383,\n",
       " 'armouries': 122712,\n",
       " 'achterbusch': 83267,\n",
       " 'robillard': 109252,\n",
       " 'outreaches': 116676,\n",
       " 'birgette': 111700,\n",
       " 'reactive': 34051,\n",
       " 'longuers': 118961,\n",
       " 'tragic': 1625,\n",
       " 'even': 57,\n",
       " 'intensify': 30287,\n",
       " '1453': 104425,\n",
       " 'sanctimonious': 16749,\n",
       " 'marketer': 121638,\n",
       " 'excorcist': 56961,\n",
       " \"'french\": 83462,\n",
       " 'contempt': 6928,\n",
       " 'milder': 29441,\n",
       " 'aschenbach': 13738,\n",
       " \"white's\": 22440,\n",
       " 'lumpy': 19908,\n",
       " 'tilton': 72854,\n",
       " 'shuffles': 35295,\n",
       " 'sidesteps': 40392,\n",
       " 'bob': 1917,\n",
       " 'toed': 51155,\n",
       " \"'chances\": 97768,\n",
       " 'breckin': 30208,\n",
       " 'tristram': 44578,\n",
       " 'batalha': 108018,\n",
       " 'brochures': 43352,\n",
       " \"'feel\": 24183,\n",
       " 'prostrated': 107543,\n",
       " 'perfectionistic': 48331,\n",
       " 'germann': 62783,\n",
       " 'theakos': 109270,\n",
       " 'fowl': 40676,\n",
       " \"naish's\": 112642,\n",
       " 'treaties': 39018,\n",
       " 'defeatists': 108658,\n",
       " \"l'anglaise\": 39467,\n",
       " \"jōb's\": 96644,\n",
       " 'debutantes': 51247,\n",
       " 'drollest': 108310,\n",
       " 'dragqueen': 117887,\n",
       " 'functions': 8801,\n",
       " \"'sale\": 108799,\n",
       " 'headlight': 26148,\n",
       " 'unconventionality': 50738,\n",
       " '976': 70454,\n",
       " 'forfeited': 110854,\n",
       " 'film\\x97whether': 114756,\n",
       " 'skarsgård': 50524,\n",
       " \"'out'\": 60838,\n",
       " 'scrimm': 22655,\n",
       " \"'lots\": 108549,\n",
       " \"ned'\": 69401,\n",
       " 'cryer': 35801,\n",
       " 'twitches': 33703,\n",
       " 'geoeffry': 94049,\n",
       " 'lecherously': 118926,\n",
       " 'pages': 5242,\n",
       " 'lawnmowerman': 95628,\n",
       " \"'beauty'\": 97207,\n",
       " \"lynche's\": 93562,\n",
       " 'nerdier': 66372,\n",
       " \"waite's\": 57305,\n",
       " 'asagoro': 37701,\n",
       " 'prioritized': 59488,\n",
       " 'bennington': 114419,\n",
       " 'rivals': 7405,\n",
       " 'zed': 22565,\n",
       " 'lupus': 41550,\n",
       " 'vacuousness': 97749,\n",
       " ...}"
      ]
     },
     "execution_count": 20,
     "metadata": {},
     "output_type": "execute_result"
    }
   ],
   "source": [
    "tokenizer.word_index"
   ]
  },
  {
   "cell_type": "markdown",
   "metadata": {},
   "source": [
    "We can then use the tokenizer to convert all texts in the training-set to lists of these tokens."
   ]
  },
  {
   "cell_type": "code",
   "execution_count": null,
   "metadata": {},
   "outputs": [],
   "source": []
  },
  {
   "cell_type": "code",
   "execution_count": 27,
   "metadata": {},
   "outputs": [],
   "source": [
    "x_train_tokens = tokenizer.texts_to_sequences(x_train_text)"
   ]
  },
  {
   "cell_type": "code",
   "execution_count": null,
   "metadata": {},
   "outputs": [],
   "source": []
  },
  {
   "cell_type": "markdown",
   "metadata": {},
   "source": [
    "For example, here is a text from the training-set:"
   ]
  },
  {
   "cell_type": "code",
   "execution_count": 25,
   "metadata": {},
   "outputs": [
    {
     "data": {
      "text/plain": [
       "'I LOVED GOOD TIMES with the rest of many of you. I love reading INTELLIGENT and INSIGHTFUL commentary. The writers on THIS show were fantastic and the Actors were beyond TALENTED. To answer Strawberry22 (the neatest commentary to the other superior and positive commentary)...What happened was that James was killed in an accident (I believe I remember that it was a trucking accident or car accident) and it was the saddest episode (when it first aired and I was a tiny thing...it was so sad to me..).<br /><br />Florida and the Children actually get out of the projects and EVEN become neighbors with Willona (Wilnona) and that is how the very last show ended.<br /><br />ALL of the children achieved their dreams and found opportunity in each of their dreams. It was a wonderful ending and I cried because I was happy for them and the show seemed so realistic that I actually believed in their fate. I hope that this kind of ending rings true in actually for many.<br /><br />A great show and many other great shows followed including Benson and The Jeffersons. This was an awesome period for African-American television and the best writers were awesome at that time. TV LAND is Awesome for the memories and I just LOVE it because I cannot STAND the junk that we are watching today. SOMEBODY...bring back the 1970s and 1980s quickly...your intelligent viewers are a dying breed out here and we need better material.<br /><br />Love, a TV LAND original sitcom junkie of the 70s and 80s (as they sing in \"ALL in the Family\"...those were the days......'"
      ]
     },
     "execution_count": 25,
     "metadata": {},
     "output_type": "execute_result"
    }
   ],
   "source": [
    "x_train_text[1]"
   ]
  },
  {
   "cell_type": "markdown",
   "metadata": {},
   "source": [
    "This text corresponds to the following list of tokens:"
   ]
  },
  {
   "cell_type": "code",
   "execution_count": 20,
   "metadata": {},
   "outputs": [
    {
     "data": {
      "text/plain": [
       "array([   3,  591,  929,    7,    7,   48,   67,   10,  131,   11,    6,\n",
       "          3,  393,   19,   12,   10,   67,  103,  121,    2,  121,    9,\n",
       "          6,  406,   27,    4,    1,  342,  713, 1317,   90,   16,    3,\n",
       "         78,  174,  694, 4910,    2, 2556, 3599,    3,  399,  227,   31,\n",
       "       4033, 2628,  441,   20,   24,  288,    7,    7,    9,    6,  144,\n",
       "          5,  114,  871,  221,  922,   43,   22,   25, 3639, 1897,   27,\n",
       "        217,    1, 9206,   20, 1306,    4,  258,    5,  197,   48,    6,\n",
       "         20,    9,  631,  411,   11,   19,  405,   18,    8,  614,    9,\n",
       "       1003,  405,   43,   22,   62,  103,   11,   19,   27,   67,  380,\n",
       "         12,    9,   80,   26,   14,  152,    2, 1451,    3, 2997,  153,\n",
       "         36,  146])"
      ]
     },
     "execution_count": 20,
     "metadata": {},
     "output_type": "execute_result"
    }
   ],
   "source": [
    "np.array(x_train_tokens[1])"
   ]
  },
  {
   "cell_type": "markdown",
   "metadata": {},
   "source": [
    "We also need to convert the texts in the test-set to tokens."
   ]
  },
  {
   "cell_type": "code",
   "execution_count": 30,
   "metadata": {},
   "outputs": [],
   "source": [
    "x_test_tokens = tokenizer.texts_to_sequences(x_test_text)"
   ]
  },
  {
   "cell_type": "markdown",
   "metadata": {},
   "source": [
    "## Padding and Truncating Data\n",
    "\n",
    "The Recurrent Neural Network can take sequences of arbitrary length as input, but in order to use a whole batch of data, the sequences need to have the same length. There are two ways of achieving this: (A) Either we ensure that all sequences in the entire data-set have the same length, or (B) we write a custom data-generator that ensures the sequences have the same length within each batch.\n",
    "\n",
    "Solution (A) is simpler but if we use the length of the longest sequence in the data-set, then we are wasting a lot of memory. This is particularly important for larger data-sets.\n",
    "\n",
    "So in order to make a compromise, we will use a sequence-length that covers most sequences in the data-set, and we will then truncate longer sequences and pad shorter sequences.\n",
    "\n",
    "First we count the number of tokens in all the sequences in the data-set."
   ]
  },
  {
   "cell_type": "code",
   "execution_count": 31,
   "metadata": {},
   "outputs": [],
   "source": [
    "num_tokens = [len(tokens) for tokens in x_train_tokens + x_test_tokens]\n",
    "num_tokens = np.array(num_tokens)"
   ]
  },
  {
   "cell_type": "markdown",
   "metadata": {},
   "source": [
    "The average number of tokens in a sequence is:"
   ]
  },
  {
   "cell_type": "code",
   "execution_count": 32,
   "metadata": {},
   "outputs": [
    {
     "data": {
      "text/plain": [
       "221.27716"
      ]
     },
     "execution_count": 32,
     "metadata": {},
     "output_type": "execute_result"
    }
   ],
   "source": [
    "np.mean(num_tokens)"
   ]
  },
  {
   "cell_type": "markdown",
   "metadata": {},
   "source": [
    "The maximum number of tokens in a sequence is:"
   ]
  },
  {
   "cell_type": "code",
   "execution_count": 33,
   "metadata": {},
   "outputs": [
    {
     "data": {
      "text/plain": [
       "2209"
      ]
     },
     "execution_count": 33,
     "metadata": {},
     "output_type": "execute_result"
    }
   ],
   "source": [
    "np.max(num_tokens)"
   ]
  },
  {
   "cell_type": "markdown",
   "metadata": {},
   "source": [
    "The max number of tokens we will allow is set to the average plus 2 standard deviations."
   ]
  },
  {
   "cell_type": "code",
   "execution_count": 34,
   "metadata": {},
   "outputs": [
    {
     "data": {
      "text/plain": [
       "544"
      ]
     },
     "execution_count": 34,
     "metadata": {},
     "output_type": "execute_result"
    }
   ],
   "source": [
    "max_tokens = np.mean(num_tokens) + 2 * np.std(num_tokens)\n",
    "max_tokens = int(max_tokens)\n",
    "max_tokens"
   ]
  },
  {
   "cell_type": "markdown",
   "metadata": {},
   "source": [
    "This covers about 95% of the data-set."
   ]
  },
  {
   "cell_type": "code",
   "execution_count": null,
   "metadata": {},
   "outputs": [],
   "source": []
  },
  {
   "cell_type": "code",
   "execution_count": 38,
   "metadata": {},
   "outputs": [
    {
     "data": {
      "text/plain": [
       "0.9453"
      ]
     },
     "execution_count": 38,
     "metadata": {},
     "output_type": "execute_result"
    }
   ],
   "source": [
    "np.sum(num_tokens < max_tokens) / len(num_tokens)"
   ]
  },
  {
   "cell_type": "markdown",
   "metadata": {},
   "source": [
    "When padding or truncating the sequences that have a different length, we need to determine if we want to do this padding or truncating 'pre' or 'post'. If a sequence is truncated, it means that a part of the sequence is simply thrown away. If a sequence is padded, it means that zeros are added to the sequence.\n",
    "\n",
    "So the choice of 'pre' or 'post' can be important because it determines whether we throw away the first or last part of a sequence when truncating, and it determines whether we add zeros to the beginning or end of the sequence when padding. This may confuse the Recurrent Neural Network."
   ]
  },
  {
   "cell_type": "code",
   "execution_count": 41,
   "metadata": {},
   "outputs": [],
   "source": [
    "pad = 'pre'"
   ]
  },
  {
   "cell_type": "code",
   "execution_count": null,
   "metadata": {},
   "outputs": [],
   "source": []
  },
  {
   "cell_type": "code",
   "execution_count": 50,
   "metadata": {},
   "outputs": [],
   "source": [
    "x_train_pad = pad_sequences(x_train_tokens, maxlen=max_tokens,\n",
    "                            padding=pad, truncating=pad)"
   ]
  },
  {
   "cell_type": "code",
   "execution_count": 51,
   "metadata": {},
   "outputs": [],
   "source": [
    "x_test_pad = pad_sequences(x_test_tokens, maxlen=max_tokens,\n",
    "                           padding=pad, truncating=pad)"
   ]
  },
  {
   "cell_type": "markdown",
   "metadata": {},
   "source": [
    "We have now transformed the training-set into one big matrix of integers (tokens) with this shape:"
   ]
  },
  {
   "cell_type": "code",
   "execution_count": 55,
   "metadata": {},
   "outputs": [
    {
     "data": {
      "text/plain": [
       "(25000, 544)"
      ]
     },
     "execution_count": 55,
     "metadata": {},
     "output_type": "execute_result"
    }
   ],
   "source": [
    "x_train_pad.shape"
   ]
  },
  {
   "cell_type": "markdown",
   "metadata": {},
   "source": [
    "The matrix for the test-set has the same shape:"
   ]
  },
  {
   "cell_type": "code",
   "execution_count": 56,
   "metadata": {
    "scrolled": true
   },
   "outputs": [
    {
     "data": {
      "text/plain": [
       "(25000, 544)"
      ]
     },
     "execution_count": 56,
     "metadata": {},
     "output_type": "execute_result"
    }
   ],
   "source": [
    "x_test_pad.shape"
   ]
  },
  {
   "cell_type": "markdown",
   "metadata": {},
   "source": [
    "For example, we had the following sequence of tokens above:"
   ]
  },
  {
   "cell_type": "code",
   "execution_count": 57,
   "metadata": {},
   "outputs": [
    {
     "data": {
      "text/plain": [
       "array([  10,  431,   49,  209,   16,    1,  370,    4,  106,    4,   22,\n",
       "         10,  112,  898, 1105,    2, 5540, 1644,    1,  956,   20,   11,\n",
       "        119,   70,  799,    2,    1,  150,   70,  671, 1024,    5, 1485,\n",
       "          1, 1644,    5,    1,   79, 1747,    2, 1161, 1644,   48,  596,\n",
       "         13,   12,  609,   13,  531,    8,   32, 1634,   10,  262,   10,\n",
       "        382,   12,    9,   13,    3, 1634,   38,  520, 1634,    2,    9,\n",
       "         13,    1, 8847,  398,   50,    9,   86, 3110,    2,   10,   13,\n",
       "          3, 2160,  148,    9,   13,   34,  625,    5,   68,    7,    7,\n",
       "       4352,    2,    1,  466,  160,   76,   41,    4,    1, 3777,    2,\n",
       "         57,  426, 5030,   16,    2,   12,    6,   85,    1,   52,  238,\n",
       "        119, 1016,    7,    7,   29,    4,    1,  466, 3225,   65, 1462,\n",
       "          2,  255, 1449,    8,  252,    4,   65, 1462,    9,   13,    3,\n",
       "        393,  272,    2,   10, 3589,   84,   10,   13,  673,   15,   93,\n",
       "          2,    1,  119,  463,   34,  809,   12,   10,  160, 2421,    8,\n",
       "         65, 2029,   10,  433,   12,   11,  242,    4,  272, 2915,  289,\n",
       "          8,  160,   15,  106,    7,    7,    3,   78,  119,    2,  106,\n",
       "         79,   78,  276, 1559,  585,    2,    1,   11,   13,   32, 1169,\n",
       "        829,   15, 2032,  283,  695,    2,    1,  116,  956,   70, 1169,\n",
       "         30,   12,   55,  240, 1378,    6, 1169,   15,    1, 1810,    2,\n",
       "         10,   39,  112,    9,   84,   10,  576,  778,    1, 2538,   12,\n",
       "         73,   23,  147,  621, 1847,  739,  141,    1, 3314,    2, 3530,\n",
       "        941,  125, 1105,  818,   23,    3, 1685, 5973,   41,  133,    2,\n",
       "         73,  362,  126,  833,    7,    7,  112,    3,  240, 1378,  212,\n",
       "       2881, 9015,    4,    1, 2249,    2, 2011,   14,   33, 1977,    8,\n",
       "         29,    8,    1,  236,  143,   70,    1,  483])"
      ]
     },
     "execution_count": 57,
     "metadata": {},
     "output_type": "execute_result"
    }
   ],
   "source": [
    "np.array(x_train_tokens[1])"
   ]
  },
  {
   "cell_type": "markdown",
   "metadata": {},
   "source": [
    "This has simply been padded to create the following sequence. Note that when this is input to the Recurrent Neural Network, then it first inputs a lot of zeros. If we had padded 'post' then it would input the integer-tokens first and then a lot of zeros. This may confuse the Recurrent Neural Network."
   ]
  },
  {
   "cell_type": "code",
   "execution_count": 58,
   "metadata": {},
   "outputs": [
    {
     "data": {
      "text/plain": [
       "array([   0,    0,    0,    0,    0,    0,    0,    0,    0,    0,    0,\n",
       "          0,    0,    0,    0,    0,    0,    0,    0,    0,    0,    0,\n",
       "          0,    0,    0,    0,    0,    0,    0,    0,    0,    0,    0,\n",
       "          0,    0,    0,    0,    0,    0,    0,    0,    0,    0,    0,\n",
       "          0,    0,    0,    0,    0,    0,    0,    0,    0,    0,    0,\n",
       "          0,    0,    0,    0,    0,    0,    0,    0,    0,    0,    0,\n",
       "          0,    0,    0,    0,    0,    0,    0,    0,    0,    0,    0,\n",
       "          0,    0,    0,    0,    0,    0,    0,    0,    0,    0,    0,\n",
       "          0,    0,    0,    0,    0,    0,    0,    0,    0,    0,    0,\n",
       "          0,    0,    0,    0,    0,    0,    0,    0,    0,    0,    0,\n",
       "          0,    0,    0,    0,    0,    0,    0,    0,    0,    0,    0,\n",
       "          0,    0,    0,    0,    0,    0,    0,    0,    0,    0,    0,\n",
       "          0,    0,    0,    0,    0,    0,    0,    0,    0,    0,    0,\n",
       "          0,    0,    0,    0,    0,    0,    0,    0,    0,    0,    0,\n",
       "          0,    0,    0,    0,    0,    0,    0,    0,    0,    0,    0,\n",
       "          0,    0,    0,    0,    0,    0,    0,    0,    0,    0,    0,\n",
       "          0,    0,    0,    0,    0,    0,    0,    0,    0,    0,    0,\n",
       "          0,    0,    0,    0,    0,    0,    0,    0,    0,    0,    0,\n",
       "          0,    0,    0,    0,    0,    0,    0,    0,    0,    0,    0,\n",
       "          0,    0,    0,    0,    0,    0,    0,    0,    0,    0,    0,\n",
       "          0,    0,    0,    0,    0,    0,    0,    0,    0,    0,    0,\n",
       "          0,    0,    0,    0,    0,    0,    0,    0,    0,    0,    0,\n",
       "          0,    0,    0,    0,    0,    0,    0,    0,    0,    0,    0,\n",
       "          0,    0,    0,    0,    0,    0,    0,    0,    0,    0,    0,\n",
       "          0,    0,    0,    0,    0,    0,    0,    0,   10,  431,   49,\n",
       "        209,   16,    1,  370,    4,  106,    4,   22,   10,  112,  898,\n",
       "       1105,    2, 5540, 1644,    1,  956,   20,   11,  119,   70,  799,\n",
       "          2,    1,  150,   70,  671, 1024,    5, 1485,    1, 1644,    5,\n",
       "          1,   79, 1747,    2, 1161, 1644,   48,  596,   13,   12,  609,\n",
       "         13,  531,    8,   32, 1634,   10,  262,   10,  382,   12,    9,\n",
       "         13,    3, 1634,   38,  520, 1634,    2,    9,   13,    1, 8847,\n",
       "        398,   50,    9,   86, 3110,    2,   10,   13,    3, 2160,  148,\n",
       "          9,   13,   34,  625,    5,   68,    7,    7, 4352,    2,    1,\n",
       "        466,  160,   76,   41,    4,    1, 3777,    2,   57,  426, 5030,\n",
       "         16,    2,   12,    6,   85,    1,   52,  238,  119, 1016,    7,\n",
       "          7,   29,    4,    1,  466, 3225,   65, 1462,    2,  255, 1449,\n",
       "          8,  252,    4,   65, 1462,    9,   13,    3,  393,  272,    2,\n",
       "         10, 3589,   84,   10,   13,  673,   15,   93,    2,    1,  119,\n",
       "        463,   34,  809,   12,   10,  160, 2421,    8,   65, 2029,   10,\n",
       "        433,   12,   11,  242,    4,  272, 2915,  289,    8,  160,   15,\n",
       "        106,    7,    7,    3,   78,  119,    2,  106,   79,   78,  276,\n",
       "       1559,  585,    2,    1,   11,   13,   32, 1169,  829,   15, 2032,\n",
       "        283,  695,    2,    1,  116,  956,   70, 1169,   30,   12,   55,\n",
       "        240, 1378,    6, 1169,   15,    1, 1810,    2,   10,   39,  112,\n",
       "          9,   84,   10,  576,  778,    1, 2538,   12,   73,   23,  147,\n",
       "        621, 1847,  739,  141,    1, 3314,    2, 3530,  941,  125, 1105,\n",
       "        818,   23,    3, 1685, 5973,   41,  133,    2,   73,  362,  126,\n",
       "        833,    7,    7,  112,    3,  240, 1378,  212, 2881, 9015,    4,\n",
       "          1, 2249,    2, 2011,   14,   33, 1977,    8,   29,    8,    1,\n",
       "        236,  143,   70,    1,  483], dtype=int32)"
      ]
     },
     "execution_count": 58,
     "metadata": {},
     "output_type": "execute_result"
    }
   ],
   "source": [
    "x_train_pad[1]"
   ]
  },
  {
   "cell_type": "markdown",
   "metadata": {},
   "source": [
    "## Tokenizer Inverse Map\n",
    "\n",
    "For some strange reason, the Keras implementation of a tokenizer does not seem to have the inverse mapping from integer-tokens back to words, which is needed to reconstruct text-strings from lists of tokens. So we make that mapping here."
   ]
  },
  {
   "cell_type": "code",
   "execution_count": null,
   "metadata": {},
   "outputs": [],
   "source": []
  },
  {
   "cell_type": "code",
   "execution_count": 60,
   "metadata": {},
   "outputs": [],
   "source": [
    "idx = tokenizer.word_index\n",
    "inverse_map = dict(zip(idx.values(), idx.keys()))"
   ]
  },
  {
   "cell_type": "markdown",
   "metadata": {},
   "source": [
    "Helper-function for converting a list of tokens back to a string of words."
   ]
  },
  {
   "cell_type": "code",
   "execution_count": 61,
   "metadata": {},
   "outputs": [],
   "source": [
    "def tokens_to_string(tokens):\n",
    "    # Map from tokens back to words.\n",
    "    words = [inverse_map[token] for token in tokens if token != 0]\n",
    "    \n",
    "    # Concatenate all words.\n",
    "    text = \" \".join(words)\n",
    "\n",
    "    return text"
   ]
  },
  {
   "cell_type": "markdown",
   "metadata": {},
   "source": [
    "For example, this is the original text from the data-set:"
   ]
  },
  {
   "cell_type": "code",
   "execution_count": 62,
   "metadata": {
    "scrolled": true
   },
   "outputs": [
    {
     "data": {
      "text/plain": [
       "'I LOVED GOOD TIMES with the rest of many of you. I love reading INTELLIGENT and INSIGHTFUL commentary. The writers on THIS show were fantastic and the Actors were beyond TALENTED. To answer Strawberry22 (the neatest commentary to the other superior and positive commentary)...What happened was that James was killed in an accident (I believe I remember that it was a trucking accident or car accident) and it was the saddest episode (when it first aired and I was a tiny thing...it was so sad to me..).<br /><br />Florida and the Children actually get out of the projects and EVEN become neighbors with Willona (Wilnona) and that is how the very last show ended.<br /><br />ALL of the children achieved their dreams and found opportunity in each of their dreams. It was a wonderful ending and I cried because I was happy for them and the show seemed so realistic that I actually believed in their fate. I hope that this kind of ending rings true in actually for many.<br /><br />A great show and many other great shows followed including Benson and The Jeffersons. This was an awesome period for African-American television and the best writers were awesome at that time. TV LAND is Awesome for the memories and I just LOVE it because I cannot STAND the junk that we are watching today. SOMEBODY...bring back the 1970s and 1980s quickly...your intelligent viewers are a dying breed out here and we need better material.<br /><br />Love, a TV LAND original sitcom junkie of the 70s and 80s (as they sing in \"ALL in the Family\"...those were the days......'"
      ]
     },
     "execution_count": 62,
     "metadata": {},
     "output_type": "execute_result"
    }
   ],
   "source": [
    "x_train_text[1]"
   ]
  },
  {
   "cell_type": "markdown",
   "metadata": {},
   "source": [
    "We can recreate this text except for punctuation and other symbols, by converting the list of tokens back to words:"
   ]
  },
  {
   "cell_type": "code",
   "execution_count": 63,
   "metadata": {},
   "outputs": [
    {
     "data": {
      "text/plain": [
       "'i loved good times with the rest of many of you i love reading intelligent and insightful commentary the writers on this show were fantastic and the actors were beyond talented to answer the commentary to the other superior and positive commentary what happened was that james was killed in an accident i believe i remember that it was a accident or car accident and it was the saddest episode when it first aired and i was a tiny thing it was so sad to me br br florida and the children actually get out of the projects and even become neighbors with and that is how the very last show ended br br all of the children achieved their dreams and found opportunity in each of their dreams it was a wonderful ending and i cried because i was happy for them and the show seemed so realistic that i actually believed in their fate i hope that this kind of ending rings true in actually for many br br a great show and many other great shows followed including and the this was an awesome period for african american television and the best writers were awesome at that time tv land is awesome for the memories and i just love it because i cannot stand the junk that we are watching today somebody bring back the 1970s and 1980s quickly your intelligent viewers are a dying breed out here and we need better material br br love a tv land original sitcom junkie of the 70s and 80s as they sing in all in the family those were the days'"
      ]
     },
     "execution_count": 63,
     "metadata": {},
     "output_type": "execute_result"
    }
   ],
   "source": [
    "tokens_to_string(x_train_tokens[1])"
   ]
  },
  {
   "cell_type": "markdown",
   "metadata": {},
   "source": [
    "## Create the Recurrent Neural Network\n",
    "\n",
    "We are now ready to create the Recurrent Neural Network (RNN). We will use the Keras API for this because of its simplicity. See Tutorial #03-C for a tutorial on Keras."
   ]
  },
  {
   "cell_type": "code",
   "execution_count": 64,
   "metadata": {},
   "outputs": [],
   "source": [
    "model = Sequential()"
   ]
  },
  {
   "cell_type": "markdown",
   "metadata": {},
   "source": [
    "The first layer in the RNN is a so-called Embedding-layer which converts each integer-token into a vector of values. This is necessary because the integer-tokens may take on values between 0 and 10000 for a vocabulary of 10000 words. The RNN cannot work on values in such a wide range. The embedding-layer is trained as a part of the RNN and will learn to map words with similar semantic meanings to similar embedding-vectors, as will be shown further below.\n",
    "\n",
    "First we define the size of the embedding-vector for each integer-token. In this case we have set it to 8, so that each integer-token will be converted to a vector of length 8. The values of the embedding-vector will generally fall roughly between -1.0 and 1.0, although they may exceed these values somewhat.\n",
    "\n",
    "The size of the embedding-vector is typically selected between 100-300, but it seems to work reasonably well with small values for Sentiment Analysis."
   ]
  },
  {
   "cell_type": "code",
   "execution_count": 65,
   "metadata": {},
   "outputs": [],
   "source": [
    "embedding_size = 8"
   ]
  },
  {
   "cell_type": "markdown",
   "metadata": {},
   "source": [
    "The embedding-layer also needs to know the number of words in the vocabulary (`num_words`) and the length of the padded token-sequences (`max_tokens`). We also give this layer a name because we need to retrieve its weights further below."
   ]
  },
  {
   "cell_type": "code",
   "execution_count": 66,
   "metadata": {},
   "outputs": [],
   "source": [
    "model.add(Embedding(input_dim=num_words,\n",
    "                    output_dim=embedding_size,\n",
    "                    input_length=max_tokens,\n",
    "                    name='layer_embedding'))"
   ]
  },
  {
   "cell_type": "markdown",
   "metadata": {},
   "source": [
    "We can now add the first Gated Recurrent Unit (GRU) to the network. This will have 16 outputs. Because we will add a second GRU after this one, we need to return sequences of data because the next GRU expects sequences as its input."
   ]
  },
  {
   "cell_type": "code",
   "execution_count": 67,
   "metadata": {},
   "outputs": [],
   "source": [
    "model.add(GRU(units=16, return_sequences=True))"
   ]
  },
  {
   "cell_type": "markdown",
   "metadata": {},
   "source": [
    "This adds the second GRU with 8 output units. This will be followed by another GRU so it must also return sequences."
   ]
  },
  {
   "cell_type": "code",
   "execution_count": 68,
   "metadata": {},
   "outputs": [],
   "source": [
    "model.add(GRU(units=8, return_sequences=True))"
   ]
  },
  {
   "cell_type": "markdown",
   "metadata": {},
   "source": [
    "This adds the third and final GRU with 4 output units. This will be followed by a dense-layer, so it should only give the final output of the GRU and not a whole sequence of outputs."
   ]
  },
  {
   "cell_type": "code",
   "execution_count": 69,
   "metadata": {},
   "outputs": [],
   "source": [
    "model.add(GRU(units=4))"
   ]
  },
  {
   "cell_type": "markdown",
   "metadata": {},
   "source": [
    "Add a fully-connected / dense layer which computes a value between 0.0 and 1.0 that will be used as the classification output."
   ]
  },
  {
   "cell_type": "code",
   "execution_count": 70,
   "metadata": {},
   "outputs": [],
   "source": [
    "model.add(Dense(1, activation='sigmoid'))"
   ]
  },
  {
   "cell_type": "markdown",
   "metadata": {},
   "source": [
    "Use the Adam optimizer with the given learning-rate."
   ]
  },
  {
   "cell_type": "code",
   "execution_count": 71,
   "metadata": {},
   "outputs": [],
   "source": [
    "optimizer = Adam(lr=1e-3)"
   ]
  },
  {
   "cell_type": "markdown",
   "metadata": {},
   "source": [
    "Compile the Keras model so it is ready for training."
   ]
  },
  {
   "cell_type": "code",
   "execution_count": 72,
   "metadata": {},
   "outputs": [],
   "source": [
    "model.compile(loss='binary_crossentropy',\n",
    "              optimizer=optimizer,\n",
    "              metrics=['accuracy'])"
   ]
  },
  {
   "cell_type": "code",
   "execution_count": 73,
   "metadata": {},
   "outputs": [
    {
     "name": "stdout",
     "output_type": "stream",
     "text": [
      "_________________________________________________________________\n",
      "Layer (type)                 Output Shape              Param #   \n",
      "=================================================================\n",
      "layer_embedding (Embedding)  (None, 544, 8)            80000     \n",
      "_________________________________________________________________\n",
      "gru (GRU)                    (None, 544, 16)           1200      \n",
      "_________________________________________________________________\n",
      "gru_1 (GRU)                  (None, 544, 8)            600       \n",
      "_________________________________________________________________\n",
      "gru_2 (GRU)                  (None, 4)                 156       \n",
      "_________________________________________________________________\n",
      "dense (Dense)                (None, 1)                 5         \n",
      "=================================================================\n",
      "Total params: 81,961\n",
      "Trainable params: 81,961\n",
      "Non-trainable params: 0\n",
      "_________________________________________________________________\n"
     ]
    }
   ],
   "source": [
    "model.summary()"
   ]
  },
  {
   "cell_type": "markdown",
   "metadata": {},
   "source": [
    "## Train the Recurrent Neural Network\n",
    "\n",
    "We can now train the model. Note that we are using the data-set with the padded sequences. We use 5% of the training-set as a small validation-set, so we have a rough idea whether the model is generalizing well or if it is perhaps over-fitting to the training-set."
   ]
  },
  {
   "cell_type": "code",
   "execution_count": 78,
   "metadata": {
    "scrolled": true
   },
   "outputs": [
    {
     "name": "stdout",
     "output_type": "stream",
     "text": [
      "Train on 23750 samples, validate on 1250 samples\n",
      "Epoch 1/1\n",
      "23750/23750 [==============================] - 230s 10ms/step - loss: 0.3311 - acc: 0.8762 - val_loss: 0.4212 - val_acc: 0.8200\n",
      "CPU times: user 10min 40s, sys: 1min 9s, total: 11min 49s\n",
      "Wall time: 3min 49s\n"
     ]
    },
    {
     "data": {
      "text/plain": [
       "<tensorflow.python.keras.callbacks.History at 0x7f25bedba208>"
      ]
     },
     "execution_count": 78,
     "metadata": {},
     "output_type": "execute_result"
    }
   ],
   "source": [
    "%%time\n",
    "model.fit(x_train_pad, y_train,\n",
    "          validation_split=0.05, epochs=1, batch_size=64)"
   ]
  },
  {
   "cell_type": "markdown",
   "metadata": {},
   "source": [
    "## Performance on Test-Set\n",
    "\n",
    "Now that the model has been trained we can calculate its classification accuracy on the test-set."
   ]
  },
  {
   "cell_type": "code",
   "execution_count": 79,
   "metadata": {},
   "outputs": [
    {
     "name": "stdout",
     "output_type": "stream",
     "text": [
      "25000/25000 [==============================] - 102s 4ms/step\n",
      "CPU times: user 4min 22s, sys: 32.1 s, total: 4min 55s\n",
      "Wall time: 1min 42s\n"
     ]
    }
   ],
   "source": [
    "%%time\n",
    "result = model.evaluate(x_test_pad, y_test)"
   ]
  },
  {
   "cell_type": "code",
   "execution_count": 81,
   "metadata": {},
   "outputs": [
    {
     "name": "stdout",
     "output_type": "stream",
     "text": [
      "Accuracy: 85.75%\n"
     ]
    }
   ],
   "source": [
    "print(\"Accuracy: {0:.2%}\".format(result[1]))"
   ]
  },
  {
   "cell_type": "markdown",
   "metadata": {},
   "source": [
    "## Example of Mis-Classified Text\n",
    "\n",
    "In order to show an example of mis-classified text, we first calculate the predicted sentiment for the first 1000 texts in the test-set."
   ]
  },
  {
   "cell_type": "code",
   "execution_count": 82,
   "metadata": {},
   "outputs": [
    {
     "name": "stdout",
     "output_type": "stream",
     "text": [
      "CPU times: user 10.8 s, sys: 1.24 s, total: 12.1 s\n",
      "Wall time: 3.94 s\n"
     ]
    }
   ],
   "source": [
    "%%time\n",
    "y_pred = model.predict(x=x_test_pad[0:1000])\n",
    "y_pred = y_pred.T[0]"
   ]
  },
  {
   "cell_type": "markdown",
   "metadata": {},
   "source": [
    "These predicted numbers fall between 0.0 and 1.0. We use a cutoff / threshold and say that all values above 0.5 are taken to be 1.0 and all values below 0.5 are taken to be 0.0. This gives us a predicted \"class\" of either 0.0 or 1.0."
   ]
  },
  {
   "cell_type": "code",
   "execution_count": 83,
   "metadata": {},
   "outputs": [],
   "source": [
    "cls_pred = np.array([1.0 if p>0.5 else 0.0 for p in y_pred])"
   ]
  },
  {
   "cell_type": "markdown",
   "metadata": {},
   "source": [
    "The true \"class\" for the first 1000 texts in the test-set are needed for comparison."
   ]
  },
  {
   "cell_type": "code",
   "execution_count": 84,
   "metadata": {},
   "outputs": [],
   "source": [
    "cls_true = np.array(y_test[0:1000])"
   ]
  },
  {
   "cell_type": "markdown",
   "metadata": {},
   "source": [
    "We can then get indices for all the texts that were incorrectly classified by comparing all the \"classes\" of these two arrays."
   ]
  },
  {
   "cell_type": "code",
   "execution_count": 85,
   "metadata": {},
   "outputs": [],
   "source": [
    "incorrect = np.where(cls_pred != cls_true)\n",
    "incorrect = incorrect[0]"
   ]
  },
  {
   "cell_type": "markdown",
   "metadata": {},
   "source": [
    "Of the 1000 texts used, how many were mis-classified?"
   ]
  },
  {
   "cell_type": "code",
   "execution_count": 86,
   "metadata": {},
   "outputs": [
    {
     "data": {
      "text/plain": [
       "132"
      ]
     },
     "execution_count": 86,
     "metadata": {},
     "output_type": "execute_result"
    }
   ],
   "source": [
    "len(incorrect)"
   ]
  },
  {
   "cell_type": "markdown",
   "metadata": {},
   "source": [
    "Let us look at the first mis-classified text. We will use its index several times."
   ]
  },
  {
   "cell_type": "code",
   "execution_count": 87,
   "metadata": {},
   "outputs": [
    {
     "data": {
      "text/plain": [
       "1"
      ]
     },
     "execution_count": 87,
     "metadata": {},
     "output_type": "execute_result"
    }
   ],
   "source": [
    "idx = incorrect[0]\n",
    "idx"
   ]
  },
  {
   "cell_type": "markdown",
   "metadata": {},
   "source": [
    "The mis-classified text is:"
   ]
  },
  {
   "cell_type": "code",
   "execution_count": 88,
   "metadata": {},
   "outputs": [
    {
     "data": {
      "text/plain": [
       "'There\\'s not a dull moment in Francois Ozon\\'s \"Robe d\\'Ete\". It\\'s surprising how much is packed into this short film. While reclining on a deserted beach after a nude swim, a young gay is approached by a girl seeking a light for her cigarette. She invites him to make love in a wooded area near the beach. On returning to the beach. they find that all his clothes have been stolen. She lends him a summer dress to cover his nakedness and requests he return it next day. He rides his bike back to the holiday cabin dressed as a girl. His gay companion is sexually excited. Early next morning the young man returns to the sea and bids farewell to the girl whose holiday has ended. She suggests he keep the dress as a memento of their summer romance. It\\'s a light-hearted film that captures the spirit of summer holidays by the sea, but perhaps not for those who are embarrassed by nudity or homosexual themes.'"
      ]
     },
     "execution_count": 88,
     "metadata": {},
     "output_type": "execute_result"
    }
   ],
   "source": [
    "text = x_test_text[idx]\n",
    "text"
   ]
  },
  {
   "cell_type": "markdown",
   "metadata": {},
   "source": [
    "These are the predicted and true classes for the text:"
   ]
  },
  {
   "cell_type": "code",
   "execution_count": 89,
   "metadata": {},
   "outputs": [
    {
     "data": {
      "text/plain": [
       "0.48405236"
      ]
     },
     "execution_count": 89,
     "metadata": {},
     "output_type": "execute_result"
    }
   ],
   "source": [
    "y_pred[idx]"
   ]
  },
  {
   "cell_type": "code",
   "execution_count": 90,
   "metadata": {},
   "outputs": [
    {
     "data": {
      "text/plain": [
       "1.0"
      ]
     },
     "execution_count": 90,
     "metadata": {},
     "output_type": "execute_result"
    }
   ],
   "source": [
    "cls_true[idx]"
   ]
  },
  {
   "cell_type": "markdown",
   "metadata": {},
   "source": [
    "## New Data\n",
    "\n",
    "Let us try and classify new texts that we make up. Some of these are obvious, while others use negation and sarcasm to try and confuse the model into mis-classifying the text."
   ]
  },
  {
   "cell_type": "code",
   "execution_count": 91,
   "metadata": {},
   "outputs": [],
   "source": [
    "text1 = \"This movie is fantastic! I really like it because it is so good!\"\n",
    "text2 = \"Good movie!\"\n",
    "text3 = \"Maybe I like this movie.\"\n",
    "text4 = \"Meh ...\"\n",
    "text5 = \"If I were a drunk teenager then this movie might be good.\"\n",
    "text6 = \"Bad movie!\"\n",
    "text7 = \"Not a good movie!\"\n",
    "text8 = \"This movie really sucks! Can I get my money back please?\"\n",
    "texts = [text1, text2, text3, text4, text5, text6, text7, text8]"
   ]
  },
  {
   "cell_type": "markdown",
   "metadata": {},
   "source": [
    "We first convert these texts to arrays of integer-tokens because that is needed by the model."
   ]
  },
  {
   "cell_type": "code",
   "execution_count": 92,
   "metadata": {},
   "outputs": [],
   "source": [
    "tokens = tokenizer.texts_to_sequences(texts)"
   ]
  },
  {
   "cell_type": "markdown",
   "metadata": {},
   "source": [
    "To input texts with different lengths into the model, we also need to pad and truncate them."
   ]
  },
  {
   "cell_type": "code",
   "execution_count": 93,
   "metadata": {},
   "outputs": [
    {
     "data": {
      "text/plain": [
       "(8, 544)"
      ]
     },
     "execution_count": 93,
     "metadata": {},
     "output_type": "execute_result"
    }
   ],
   "source": [
    "tokens_pad = pad_sequences(tokens, maxlen=max_tokens,\n",
    "                           padding=pad, truncating=pad)\n",
    "tokens_pad.shape"
   ]
  },
  {
   "cell_type": "markdown",
   "metadata": {},
   "source": [
    "We can now use the trained model to predict the sentiment for these texts."
   ]
  },
  {
   "cell_type": "code",
   "execution_count": 94,
   "metadata": {},
   "outputs": [
    {
     "data": {
      "text/plain": [
       "array([[0.9177828 ],\n",
       "       [0.91871303],\n",
       "       [0.8837001 ],\n",
       "       [0.9122211 ],\n",
       "       [0.84389514],\n",
       "       [0.6199956 ],\n",
       "       [0.91537666],\n",
       "       [0.2745162 ]], dtype=float32)"
      ]
     },
     "execution_count": 94,
     "metadata": {},
     "output_type": "execute_result"
    }
   ],
   "source": [
    "model.predict(tokens_pad)"
   ]
  },
  {
   "cell_type": "markdown",
   "metadata": {},
   "source": [
    "A value close to 0.0 means a negative sentiment and a value close to 1.0 means a positive sentiment. These numbers will vary every time you train the model."
   ]
  },
  {
   "cell_type": "markdown",
   "metadata": {},
   "source": [
    "## Embeddings\n",
    "\n",
    "The model cannot work on integer-tokens directly, because they are integer values that may range between 0 and the number of words in our vocabulary, e.g. 10000. So we need to convert the integer-tokens into vectors of values that are roughly between -1.0 and 1.0 which can be used as input to a neural network.\n",
    "\n",
    "This mapping from integer-tokens to real-valued vectors is also called an \"embedding\". It is essentially just a matrix where each row contains the vector-mapping of a single token. This means we can quickly lookup the mapping of each integer-token by simply using the token as an index into the matrix. The embeddings are learned along with the rest of the model during training.\n",
    "\n",
    "Ideally the embedding would learn a mapping where words that are similar in meaning also have similar embedding-values. Let us investigate if that has happened here.\n",
    "\n",
    "First we need to get the embedding-layer from the model:"
   ]
  },
  {
   "cell_type": "code",
   "execution_count": 95,
   "metadata": {},
   "outputs": [],
   "source": [
    "layer_embedding = model.get_layer('layer_embedding')"
   ]
  },
  {
   "cell_type": "markdown",
   "metadata": {},
   "source": [
    "We can then get the weights used for the mapping done by the embedding-layer."
   ]
  },
  {
   "cell_type": "code",
   "execution_count": 96,
   "metadata": {},
   "outputs": [],
   "source": [
    "weights_embedding = layer_embedding.get_weights()[0]"
   ]
  },
  {
   "cell_type": "markdown",
   "metadata": {},
   "source": [
    "Note that the weights are actually just a matrix with the number of words in the vocabulary times the vector length for each embedding. That's because it is basically just a lookup-matrix."
   ]
  },
  {
   "cell_type": "code",
   "execution_count": 97,
   "metadata": {},
   "outputs": [
    {
     "data": {
      "text/plain": [
       "(10000, 8)"
      ]
     },
     "execution_count": 97,
     "metadata": {},
     "output_type": "execute_result"
    }
   ],
   "source": [
    "weights_embedding.shape"
   ]
  },
  {
   "cell_type": "markdown",
   "metadata": {},
   "source": [
    "Let us get the integer-token for the word 'good', which is just an index into the vocabulary."
   ]
  },
  {
   "cell_type": "code",
   "execution_count": 98,
   "metadata": {},
   "outputs": [
    {
     "data": {
      "text/plain": [
       "49"
      ]
     },
     "execution_count": 98,
     "metadata": {},
     "output_type": "execute_result"
    }
   ],
   "source": [
    "token_good = tokenizer.word_index['good']\n",
    "token_good"
   ]
  },
  {
   "cell_type": "markdown",
   "metadata": {},
   "source": [
    "Let us also get the integer-token for the word 'great'."
   ]
  },
  {
   "cell_type": "code",
   "execution_count": 99,
   "metadata": {},
   "outputs": [
    {
     "data": {
      "text/plain": [
       "78"
      ]
     },
     "execution_count": 99,
     "metadata": {},
     "output_type": "execute_result"
    }
   ],
   "source": [
    "token_great = tokenizer.word_index['great']\n",
    "token_great"
   ]
  },
  {
   "cell_type": "markdown",
   "metadata": {},
   "source": [
    "These integertokens may be far apart and will depend on the frequency of those words in the data-set.\n",
    "\n",
    "Now let us compare the vector-embeddings for the words 'good' and 'great'. Several of these values are similar, although some values are quite different. Note that these values will change every time you train the model."
   ]
  },
  {
   "cell_type": "code",
   "execution_count": 102,
   "metadata": {},
   "outputs": [
    {
     "data": {
      "text/plain": [
       "array([-0.11256778, -0.12640634, -0.09423645, -0.0440294 ,  0.05079431,\n",
       "        0.10838508,  0.04790542,  0.05315559], dtype=float32)"
      ]
     },
     "execution_count": 102,
     "metadata": {},
     "output_type": "execute_result"
    }
   ],
   "source": [
    "weights_embedding[token_good]"
   ]
  },
  {
   "cell_type": "code",
   "execution_count": 103,
   "metadata": {},
   "outputs": [
    {
     "data": {
      "text/plain": [
       "array([-0.18933576, -0.19869208, -0.26561466, -0.20525543,  0.18047775,\n",
       "        0.25782543,  0.22864042,  0.25055316], dtype=float32)"
      ]
     },
     "execution_count": 103,
     "metadata": {},
     "output_type": "execute_result"
    }
   ],
   "source": [
    "weights_embedding[token_great]"
   ]
  },
  {
   "cell_type": "markdown",
   "metadata": {},
   "source": [
    "Similarly, we can compare the embeddings for the words 'bad' and 'horrible'."
   ]
  },
  {
   "cell_type": "code",
   "execution_count": 104,
   "metadata": {},
   "outputs": [],
   "source": [
    "token_bad = tokenizer.word_index['bad']\n",
    "token_horrible = tokenizer.word_index['horrible']"
   ]
  },
  {
   "cell_type": "code",
   "execution_count": 105,
   "metadata": {},
   "outputs": [
    {
     "data": {
      "text/plain": [
       "array([ 0.12523594,  0.16937941,  0.17389515,  0.13125601, -0.18459037,\n",
       "       -0.15123487, -0.1656415 , -0.21478419], dtype=float32)"
      ]
     },
     "execution_count": 105,
     "metadata": {},
     "output_type": "execute_result"
    }
   ],
   "source": [
    "weights_embedding[token_bad]"
   ]
  },
  {
   "cell_type": "code",
   "execution_count": 106,
   "metadata": {},
   "outputs": [
    {
     "data": {
      "text/plain": [
       "array([ 0.28040406,  0.197697  ,  0.28509668,  0.18705763, -0.26884195,\n",
       "       -0.22883832, -0.21367837, -0.31097758], dtype=float32)"
      ]
     },
     "execution_count": 106,
     "metadata": {},
     "output_type": "execute_result"
    }
   ],
   "source": [
    "weights_embedding[token_horrible]"
   ]
  },
  {
   "cell_type": "markdown",
   "metadata": {},
   "source": [
    "### Sorted Words\n",
    "\n",
    "We can also sort all the words in the vocabulary according to their \"similarity\" in the embedding-space. We want to see if words that have similar embedding-vectors also have similar meanings.\n",
    "\n",
    "Similarity of embedding-vectors can be measured by different metrics, e.g. Euclidean distance or cosine distance.\n",
    "\n",
    "We have a helper-function for calculating these distances and printing the words in sorted order."
   ]
  },
  {
   "cell_type": "code",
   "execution_count": 107,
   "metadata": {},
   "outputs": [],
   "source": [
    "def print_sorted_words(word, metric='cosine'):\n",
    "    \"\"\"\n",
    "    Print the words in the vocabulary sorted according to their\n",
    "    embedding-distance to the given word.\n",
    "    Different metrics can be used, e.g. 'cosine' or 'euclidean'.\n",
    "    \"\"\"\n",
    "\n",
    "    # Get the token (i.e. integer ID) for the given word.\n",
    "    token = tokenizer.word_index[word]\n",
    "\n",
    "    # Get the embedding for the given word. Note that the\n",
    "    # embedding-weight-matrix is indexed by the word-tokens\n",
    "    # which are integer IDs.\n",
    "    embedding = weights_embedding[token]\n",
    "\n",
    "    # Calculate the distance between the embeddings for\n",
    "    # this word and all other words in the vocabulary.\n",
    "    distances = cdist(weights_embedding, [embedding],\n",
    "                      metric=metric).T[0]\n",
    "    \n",
    "    # Get an index sorted according to the embedding-distances.\n",
    "    # These are the tokens (integer IDs) for words in the vocabulary.\n",
    "    sorted_index = np.argsort(distances)\n",
    "    \n",
    "    # Sort the embedding-distances.\n",
    "    sorted_distances = distances[sorted_index]\n",
    "    \n",
    "    # Sort all the words in the vocabulary according to their\n",
    "    # embedding-distance. This is a bit excessive because we\n",
    "    # will only print the top and bottom words.\n",
    "    sorted_words = [inverse_map[token] for token in sorted_index\n",
    "                    if token != 0]\n",
    "\n",
    "    # Helper-function for printing words and embedding-distances.\n",
    "    def _print_words(words, distances):\n",
    "        for word, distance in zip(words, distances):\n",
    "            print(\"{0:.3f} - {1}\".format(distance, word))\n",
    "\n",
    "    # Number of words to print from the top and bottom of the list.\n",
    "    k = 10\n",
    "\n",
    "    print(\"Distance from '{0}':\".format(word))\n",
    "\n",
    "    # Print the words with smallest embedding-distance.\n",
    "    _print_words(sorted_words[0:k], sorted_distances[0:k])\n",
    "\n",
    "    print(\"...\")\n",
    "\n",
    "    # Print the words with highest embedding-distance.\n",
    "    _print_words(sorted_words[-k:], sorted_distances[-k:])\n",
    "    "
   ]
  },
  {
   "cell_type": "markdown",
   "metadata": {},
   "source": [
    "We can then print the words that are near and far from the word 'great' in terms of their vector-embeddings. Note that these may change each time you train the model."
   ]
  },
  {
   "cell_type": "code",
   "execution_count": 108,
   "metadata": {
    "scrolled": true
   },
   "outputs": [
    {
     "name": "stdout",
     "output_type": "stream",
     "text": [
      "Distance from 'great':\n",
      "0.000 - great\n",
      "0.001 - today\n",
      "0.005 - oscar\n",
      "0.005 - 1995\n",
      "0.005 - goal\n",
      "0.006 - glorious\n",
      "0.006 - treat\n",
      "0.006 - drives\n",
      "0.006 - astonishing\n",
      "0.006 - clerk\n",
      "...\n",
      "1.993 - stabbed\n",
      "1.993 - lacks\n",
      "1.994 - hairy\n",
      "1.994 - ridiculous\n",
      "1.994 - sucks\n",
      "1.994 - evan\n",
      "1.994 - rational\n",
      "1.995 - exposition\n",
      "1.996 - worst\n",
      "1.997 - terrible\n"
     ]
    }
   ],
   "source": [
    "print_sorted_words('great', metric='cosine')"
   ]
  },
  {
   "cell_type": "markdown",
   "metadata": {},
   "source": [
    "Similarly, we can print the words that are near and far from the word 'worst' in terms of their vector-embeddings."
   ]
  },
  {
   "cell_type": "code",
   "execution_count": 76,
   "metadata": {
    "scrolled": true
   },
   "outputs": [
    {
     "name": "stdout",
     "output_type": "stream",
     "text": [
      "Distance from 'worst':\n",
      "0.000 - worst\n",
      "0.047 - embarrassingly\n",
      "0.053 - terrible\n",
      "0.094 - retarded\n",
      "0.095 - poor\n",
      "0.095 - stereotyping\n",
      "0.096 - uninspired\n",
      "0.099 - awful\n",
      "0.100 - severed\n",
      "0.108 - lacks\n",
      "...\n",
      "1.167 - restraint\n",
      "1.168 - available\n",
      "1.176 - foremost\n",
      "1.188 - great\n",
      "1.193 - mesmerizing\n",
      "1.222 - highly\n",
      "1.229 - exploration\n",
      "1.239 - delightful\n",
      "1.268 - wonderfully\n",
      "1.323 - 7\n"
     ]
    }
   ],
   "source": [
    "print_sorted_words('worst', metric='cosine')"
   ]
  },
  {
   "cell_type": "markdown",
   "metadata": {},
   "source": [
    "## Conclusion\n",
    "\n",
    "This tutorial showed the basic methods for doing Natural Language Processing (NLP) using a Recurrent Neural Network with integer-tokens and an embedding layer. This was used to do sentiment analysis of movie reviews from IMDB. It works reasonably well if the hyper-parameters are chosen properly. But it is important to understand that this is not human-like comprehension of text. The system does not have any real understanding of the text. It is just a clever way of doing pattern-recognition."
   ]
  },
  {
   "cell_type": "markdown",
   "metadata": {},
   "source": [
    "## Exercises\n",
    "\n",
    "These are a few suggestions for exercises that may help improve your skills with TensorFlow. It is important to get hands-on experience with TensorFlow in order to learn how to use it properly.\n",
    "\n",
    "You may want to backup this Notebook before making any changes.\n",
    "\n",
    "* Run more training-epochs. Does it improve performance?\n",
    "* If your model overfits the training-data, try using dropout-layers and dropout inside the GRU.\n",
    "* Increase or decrease the number of words in the vocabulary. This is done when the `Tokenizer` is initialized. Does it affect performance?\n",
    "* Increase the size of the embedding-vectors to e.g. 200. Does it affect performance?\n",
    "* Try varying all the different hyper-parameters for the Recurrent Neural Network.\n",
    "* Use Bayesian Optimization from Tutorial #19 to find the best choice of hyper-parameters.\n",
    "* Use 'post' for padding and truncating in `pad_sequences()`. Does it affect the performance?\n",
    "* Use individual characters instead of tokenized words as the vocabulary. You can then use one-hot encoded vectors for each character instead of using the embedding-layer.\n",
    "* Use `model.fit_generator()` instead of `model.fit()` and make your own data-generator, which creates a batch of data using a random subset of `x_train_tokens`. The sequences must be padded so they all match the length of the longest sequence.\n",
    "* Explain to a friend how the program works."
   ]
  },
  {
   "cell_type": "markdown",
   "metadata": {},
   "source": [
    "## License (MIT)\n",
    "\n",
    "Copyright (c) 2018 by [Magnus Erik Hvass Pedersen](http://www.hvass-labs.org/)\n",
    "\n",
    "Permission is hereby granted, free of charge, to any person obtaining a copy of this software and associated documentation files (the \"Software\"), to deal in the Software without restriction, including without limitation the rights to use, copy, modify, merge, publish, distribute, sublicense, and/or sell copies of the Software, and to permit persons to whom the Software is furnished to do so, subject to the following conditions:\n",
    "\n",
    "The above copyright notice and this permission notice shall be included in all copies or substantial portions of the Software.\n",
    "\n",
    "THE SOFTWARE IS PROVIDED \"AS IS\", WITHOUT WARRANTY OF ANY KIND, EXPRESS OR IMPLIED, INCLUDING BUT NOT LIMITED TO THE WARRANTIES OF MERCHANTABILITY, FITNESS FOR A PARTICULAR PURPOSE AND NONINFRINGEMENT. IN NO EVENT SHALL THE AUTHORS OR COPYRIGHT HOLDERS BE LIABLE FOR ANY CLAIM, DAMAGES OR OTHER LIABILITY, WHETHER IN AN ACTION OF CONTRACT, TORT OR OTHERWISE, ARISING FROM, OUT OF OR IN CONNECTION WITH THE SOFTWARE OR THE USE OR OTHER DEALINGS IN THE SOFTWARE."
   ]
  }
 ],
 "metadata": {
  "anaconda-cloud": {},
  "kernelspec": {
   "display_name": "Python 3",
   "language": "python",
   "name": "python3"
  },
  "language_info": {
   "codemirror_mode": {
    "name": "ipython",
    "version": 3
   },
   "file_extension": ".py",
   "mimetype": "text/x-python",
   "name": "python",
   "nbconvert_exporter": "python",
   "pygments_lexer": "ipython3",
   "version": "3.5.2"
  }
 },
 "nbformat": 4,
 "nbformat_minor": 1
}
